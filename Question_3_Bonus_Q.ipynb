{
  "cells": [
    {
      "cell_type": "markdown",
      "metadata": {
        "id": "view-in-github",
        "colab_type": "text"
      },
      "source": [
        "<a href=\"https://colab.research.google.com/github/sbbzplt/QiskitFallFest_IZTECH/blob/master/Question_3_Bonus_Q.ipynb\" target=\"_parent\"><img src=\"https://colab.research.google.com/assets/colab-badge.svg\" alt=\"Open In Colab\"/></a>"
      ]
    },
    {
      "cell_type": "markdown",
      "id": "5c2c3869",
      "metadata": {
        "deletable": false,
        "editable": false,
        "nbgrader": {
          "cell_type": "markdown",
          "checksum": "2a5b093df76c8450d0f0e969441e5d7d",
          "grade": false,
          "grade_id": "cell-22f9202c18efbe8b",
          "locked": true,
          "schema_version": 3,
          "solution": false,
          "task": false
        },
        "id": "5c2c3869"
      },
      "source": [
        "# Instructions\n",
        "\n",
        "The places where you have enter code, to answer the questions, are marked with `# YOUR CODE HERE`. Once you have written your code you should remove the `raise NotImplementedError()` statement."
      ]
    },
    {
      "cell_type": "markdown",
      "id": "d07d585a",
      "metadata": {
        "id": "d07d585a"
      },
      "source": [
        "## Question 3 - Bonus\n",
        "\n",
        "Suppose we have 4 guests among which there are enemies and We want to list all possible ways so that no enemies sit next to each other.\n",
        "\n",
        "To represent who sits in each seat, we will use 2 qubits, hence 8 qubits in total. The four guests are labeled as 00, 01, 10, 11. \n",
        "\n",
        "As input, you will have the list of enemies. For instance, if input is [\"00\",\"01\"], then 0 and 1 shouldn’t sit next to each other.\n",
        "\n",
        "For instance `11 00 01 00` is not a valid arrangement.\n",
        "\n",
        "We want to use Grover’s Search to list all possible seating arrangements. So, a marked state is the one in which each person has a seat and enemies do not sit next to each other.\n",
        "\n",
        "You will write an oracle function to mark valid seating arrangements:\n",
        "\n",
        "- You need to check if each guest appears exactly once\n",
        "- You need to make sure that enemies do not sit next to each other\n",
        "- Your oracle should output 1 in qubit numbered 7 to mark the valid states\n",
        "\n",
        "\n",
        "You oracle should have the following properties:\n",
        "\n",
        "* Inputs: List of enemy pairs\n",
        "* Returns: Quantum circuit\n",
        "\n"
      ]
    },
    {
      "cell_type": "code",
      "execution_count": null,
      "id": "379dc108",
      "metadata": {
        "nbgrader": {
          "grade": false,
          "grade_id": "cell-7ce9d86f1511a847",
          "locked": false,
          "schema_version": 1,
          "solution": true
        },
        "id": "379dc108"
      },
      "outputs": [],
      "source": [
        "from qiskit import *\n",
        "\n",
        "def oracle(enemies):\n",
        "    qc = QuantumCircuit(20,9)\n",
        "    ### BEGIN SOLUTION\n",
        "    \n",
        "    # Your code here\n",
        "    \n",
        "    # Your code ends here\n",
        "    ### END SOLUTION\n",
        "    #uncompute\n",
        "    \n",
        "    return qc\n",
        "    "
      ]
    },
    {
      "cell_type": "code",
      "execution_count": null,
      "id": "49cdd121",
      "metadata": {
        "id": "49cdd121"
      },
      "outputs": [],
      "source": [
        "#This is used in the function below\n",
        "\n",
        "def check_valid(counts,enemies):\n",
        "    valid = True\n",
        "    enemy_check = True\n",
        "    \n",
        "    for state in counts:\n",
        "        message = \"\"\n",
        "        guests = [\"00\",\"01\",\"10\",\"11\"]\n",
        "        occ = {guest: 0 for guest in guests}\n",
        "        for i in range(4):\n",
        "            for guest in guests:\n",
        "                if state[2*i]==guest[0] and state[2*i+1]==guest[1]:\n",
        "                    occ[guest]+=1\n",
        "                    message += f\"Guest {guest} sits in poisition {i}\\n\"      \n",
        "        for i in range(3):\n",
        "            if  state[2*i]==enemies[0][0] and state[2*i+1]==enemies[0][1] and state[2*i+2]==enemies[1][0] and state[2*i+3]==enemies[1][1]:\n",
        "                enemy_check = False\n",
        "                if state[8] == \"1\":\n",
        "                    print(message)\n",
        "                    print(\"Enemies sit next to each other at position \", i,\" and \", i+1,\"\\n\" )\n",
        "                    valid = False\n",
        "            elif  state[2*i]==enemies[1][0] and state[2*i+1]==enemies[1][1] and state[2*i+2]==enemies[0][0] and state[2*i+3]==enemies[0][1]:\n",
        "                enemy_check = False\n",
        "                if state[8] == \"1\":\n",
        "                    print(message)\n",
        "                    print(\"Enemies sit next to each other at position \", i,\" and \", i+1,\"\\n\" )\n",
        "                    valid = False\n",
        "        \n",
        "        if enemy_check and list(occ.values()) == [1,1,1,1] and state[8]==\"0\":\n",
        "            print(message)\n",
        "            print(\"Arrangement is valid but you do not mark it\\n\")\n",
        "            valid = False\n",
        "        elif list(occ.values())!= [1,1,1,1] and state[8]==\"1\":\n",
        "            print(message)\n",
        "            print(\"Arrangement is not valid but you mark it\\n\")\n",
        "            valid = False\n",
        "    return valid"
      ]
    },
    {
      "cell_type": "code",
      "execution_count": null,
      "id": "162cfc0d",
      "metadata": {
        "id": "162cfc0d",
        "outputId": "84fd4324-8689-45a1-92f5-94f9ce4e4260"
      },
      "outputs": [
        {
          "name": "stdout",
          "output_type": "stream",
          "text": [
            "Oracle is working\n"
          ]
        }
      ],
      "source": [
        "# You can use this code to test your function\n",
        "\n",
        "qc = QuantumCircuit(20,9)\n",
        "\n",
        "#Create equal superposition state\n",
        "for i in range(8):\n",
        "    qc.h(i)\n",
        "    \n",
        "\n",
        "enemies = [\"00\",\"01\"]\n",
        "qc += oracle(enemies)\n",
        "\n",
        "#We are measuring in reverse order\n",
        "for i in range(9):\n",
        "    qc.measure(i,8-i)\n",
        "    \n",
        "job = execute(qc,Aer.get_backend('qasm_simulator'),shots=1000)\n",
        "counts = job.result().get_counts(qc)   \n",
        "if(check_valid(counts,[\"00\",\"01\"])):\n",
        "    print(\"Oracle is working\")\n"
      ]
    },
    {
      "cell_type": "code",
      "execution_count": null,
      "id": "ebc3850e",
      "metadata": {
        "id": "ebc3850e",
        "outputId": "e30e199e-474a-4c1d-e496-763176ac2ca9"
      },
      "outputs": [
        {
          "name": "stdout",
          "output_type": "stream",
          "text": [
            "OrderedDict([('u', 3894), ('cx', 3692), ('barrier', 24), ('measure', 9)])\n"
          ]
        }
      ],
      "source": [
        "#You can use this cell to count the number of operations\n",
        "\n",
        "tp = transpile(qc, basis_gates = ['cx', 'u'])\n",
        "print(tp.count_ops())"
      ]
    },
    {
      "cell_type": "code",
      "execution_count": null,
      "id": "950a0191",
      "metadata": {
        "nbgrader": {
          "grade": true,
          "grade_id": "cell-ee6caa56cfe85f1f",
          "locked": true,
          "points": 1,
          "schema_version": 1,
          "solution": false
        },
        "id": "950a0191",
        "outputId": "963d4029-73b1-4be9-83f4-00f6b1d2a1b0"
      },
      "outputs": [
        {
          "name": "stdout",
          "output_type": "stream",
          "text": [
            "OrderedDict([('u', 3894), ('cx', 3692), ('barrier', 24), ('measure', 9)])\n"
          ]
        }
      ],
      "source": [
        "# hidden tests will be used for grading.\n",
        "# If this cell results in an error, your implementation is incorrect\n",
        "### BEGIN HIDDEN TESTS\n",
        "# You can use this code to test your function\n",
        "\n",
        "def test_oracle(enemies):\n",
        "    qc = QuantumCircuit(20,9)\n",
        "\n",
        "    #Create equal superposition state\n",
        "    for i in range(8):\n",
        "        qc.h(i)\n",
        "\n",
        "    qc += oracle(enemies)\n",
        "\n",
        "    #We are measuring in reverse order\n",
        "    for i in range(9):\n",
        "        qc.measure(i,8-i)\n",
        "\n",
        "    job = execute(qc,Aer.get_backend('qasm_simulator'),shots=1000)\n",
        "    counts = job.result().get_counts(qc)   \n",
        "\n",
        "    assert check_valid(counts,enemies) == True\n",
        "\n",
        "enemy_list = [[\"00\",\"01\"],[\"00\",\"11\"],[\"10\",\"01\"]]\n",
        "\n",
        "for enemies in enemy_list:\n",
        "    test_oracle(enemies)\n",
        "\n",
        "tp = transpile(qc, basis_gates = ['cx', 'u'])\n",
        "print(tp.count_ops())\n",
        "### END HIDDEN TESTS\n"
      ]
    }
  ],
  "metadata": {
    "celltoolbar": "Create Assignment",
    "kernelspec": {
      "display_name": "Python 3",
      "language": "python",
      "name": "python3"
    },
    "language_info": {
      "codemirror_mode": {
        "name": "ipython",
        "version": 3
      },
      "file_extension": ".py",
      "mimetype": "text/x-python",
      "name": "python",
      "nbconvert_exporter": "python",
      "pygments_lexer": "ipython3",
      "version": "3.7.3"
    },
    "colab": {
      "provenance": [],
      "include_colab_link": true
    }
  },
  "nbformat": 4,
  "nbformat_minor": 5
}