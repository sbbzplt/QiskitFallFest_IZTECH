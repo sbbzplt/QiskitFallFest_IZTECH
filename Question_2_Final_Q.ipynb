{
  "cells": [
    {
      "cell_type": "markdown",
      "metadata": {
        "id": "view-in-github",
        "colab_type": "text"
      },
      "source": [
        "<a href=\"https://colab.research.google.com/github/sbbzplt/QiskitFallFest_IZTECH/blob/master/Question_2_Final_Q.ipynb\" target=\"_parent\"><img src=\"https://colab.research.google.com/assets/colab-badge.svg\" alt=\"Open In Colab\"/></a>"
      ]
    },
    {
      "cell_type": "markdown",
      "id": "5c2c3869",
      "metadata": {
        "deletable": false,
        "editable": false,
        "nbgrader": {
          "cell_type": "markdown",
          "checksum": "2a5b093df76c8450d0f0e969441e5d7d",
          "grade": false,
          "grade_id": "cell-22f9202c18efbe8b",
          "locked": true,
          "schema_version": 3,
          "solution": false,
          "task": false
        },
        "id": "5c2c3869"
      },
      "source": [
        "# Instructions\n",
        "\n",
        "The places where you have enter code, to answer the questions, are marked with `# YOUR CODE HERE`. Once you have written your code you should remove the `raise NotImplementedError()` statement."
      ]
    },
    {
      "cell_type": "markdown",
      "id": "30aa21e3",
      "metadata": {
        "id": "30aa21e3"
      },
      "source": [
        "## Question 2\n",
        "\n",
        "You are given a quantum circuit where the qubits numbered 0,1,2,3 are used for storing the input and qubits numbered 4 and 5 are used for the output.\n",
        "\n",
        "Your task is to count the total number of \"1\"s in the input in modulo 3 and store it as a binary number in the output qubits.\n",
        "\n",
        "Example:\n",
        "\n",
        "- If the input state is 1010, the output should be 10 (qubit no 5 is 0 and qubit no 6 is 1)\n",
        "- If the input state is 1011, the output should be 00 (qubit no 5 is 0 and qubit no 6 is 0)\n",
        "- If the input state is 1000, the output should be 01 (qubit no 5 is 1 and qubit no 6 is 0)\n",
        "- If the input state is 1111, the output should be 01 (qubit no 5 is 1 and qubit no 6 is 0)\n",
        "\n",
        "The circuit has 20 qubits but you should try to use\n",
        "- as few qubits as possible\n",
        "- as few gates as possible\n",
        "\n",
        "Note: The additional qubits you use do not have to be in 0 state at the end of the circuit.\n",
        "\n",
        "* Inputs: A quantum circuit with 20 qubits\n",
        "* Returns: Quantum circuit"
      ]
    },
    {
      "cell_type": "code",
      "execution_count": null,
      "id": "fe469cbb",
      "metadata": {
        "nbgrader": {
          "grade": false,
          "grade_id": "cell-0f4849fc0faf37f8",
          "locked": false,
          "schema_version": 1,
          "solution": true
        },
        "id": "fe469cbb"
      },
      "outputs": [],
      "source": [
        "from qiskit import *\n",
        "\n",
        "def count1(qc):\n",
        "     ### BEGIN SOLUTION\n",
        "\n",
        "    #Your code here\n",
        "\n",
        "    #Your code ends here.\n",
        "    ### END SOLUTION\n",
        "    qc.measure(4,0)\n",
        "    qc.measure(5,1)\n",
        "   \n",
        "    return qc\n",
        "    "
      ]
    },
    {
      "cell_type": "code",
      "execution_count": null,
      "id": "c56a545b",
      "metadata": {
        "id": "c56a545b",
        "outputId": "b0d9a277-df35-49e5-9afa-77698511693e"
      },
      "outputs": [
        {
          "name": "stdout",
          "output_type": "stream",
          "text": [
            "{'01': 1000}\n"
          ]
        }
      ],
      "source": [
        "# You can use this code to test your function\n",
        "\n",
        "qc = QuantumCircuit(20,2)\n",
        "\n",
        "#initialize to 1111\n",
        "qc.x(0)\n",
        "qc.x(1)\n",
        "qc.x(2)\n",
        "qc.x(3)\n",
        "\n",
        "#Let's count occurence of \"1\"s in mod 3, Output should be 01\n",
        "qc = count1(qc)\n",
        "\n",
        "job = execute(qc,Aer.get_backend('qasm_simulator'),shots=1000)\n",
        "counts = job.result().get_counts(qc)   \n",
        "\n",
        "print(counts)\n"
      ]
    },
    {
      "cell_type": "code",
      "execution_count": null,
      "id": "4126910f",
      "metadata": {
        "id": "4126910f",
        "outputId": "315bb51c-72b5-4df3-bf3b-9a2581e963b4"
      },
      "outputs": [
        {
          "name": "stdout",
          "output_type": "stream",
          "text": [
            "OrderedDict([('u', 43), ('cx', 32), ('measure', 2)])\n",
            "Qubits used 8\n"
          ]
        }
      ],
      "source": [
        "#You can use this cell to count the number of operations and number of qubits used\n",
        "\n",
        "from qiskit.converters import circuit_to_dag, dag_to_circuit\n",
        "\n",
        "def find_active_qubits(circuit):\n",
        "    dag = circuit_to_dag(circuit)\n",
        "    return 20-len([w for w in dag.idle_wires()])\n",
        "\n",
        "tp = transpile(qc, basis_gates = ['cx', 'u'])\n",
        "print(tp.count_ops())\n",
        "print(\"Qubits used\", find_active_qubits(qc))"
      ]
    },
    {
      "cell_type": "code",
      "execution_count": null,
      "id": "ccd17a08",
      "metadata": {
        "nbgrader": {
          "grade": true,
          "grade_id": "cell-6ff4d14141f4705d",
          "locked": true,
          "points": 1,
          "schema_version": 1,
          "solution": false
        },
        "id": "ccd17a08"
      },
      "outputs": [],
      "source": [
        "# hidden tests will be used for grading.\n",
        "# If this cell results in an error, your implementation is incorrect\n",
        "### BEGIN HIDDEN TESTS\n",
        "def initialize(qc,inp):\n",
        "    for i in range(len(inp)):\n",
        "        if inp[i]==\"1\":\n",
        "            qc.x(i)\n",
        "    return qc\n",
        "        \n",
        "def generate_binary_strings(bit_count):\n",
        "    binary_strings = []\n",
        "    def genbin(n, bs=''):\n",
        "        if len(bs) == n:\n",
        "            binary_strings.append(bs)\n",
        "        else:\n",
        "            genbin(n, bs + '0')\n",
        "            genbin(n, bs + '1')\n",
        "    genbin(bit_count)\n",
        "    return binary_strings\n",
        "\n",
        "def count_occ(inp):\n",
        "    c=0\n",
        "    for i in inp:\n",
        "        c+=int(i)\n",
        "    return format(c%3, '02b')\n",
        "\n",
        "from qiskit.converters import circuit_to_dag, dag_to_circuit\n",
        "\n",
        "def find_active_qubits(circuit):\n",
        "\n",
        "    dag = circuit_to_dag(circuit)\n",
        "    return 20-len([w for w in dag.idle_wires()])\n",
        "\n",
        "inputs = generate_binary_strings(4)\n",
        "for inp in inputs:\n",
        "    qc = QuantumCircuit(20,2)\n",
        "    initialize(qc,inp)\n",
        "    qc = count1(qc)\n",
        "    result = count_occ(inp)\n",
        "    job = execute(qc,Aer.get_backend('qasm_simulator'),shots=1000)\n",
        "    counts = job.result().get_counts(qc) \n",
        "    assert counts[result]==1000\n",
        "### END HIDDEN TESTS\n"
      ]
    }
  ],
  "metadata": {
    "celltoolbar": "Create Assignment",
    "kernelspec": {
      "display_name": "Python 3",
      "language": "python",
      "name": "python3"
    },
    "language_info": {
      "codemirror_mode": {
        "name": "ipython",
        "version": 3
      },
      "file_extension": ".py",
      "mimetype": "text/x-python",
      "name": "python",
      "nbconvert_exporter": "python",
      "pygments_lexer": "ipython3",
      "version": "3.7.3"
    },
    "colab": {
      "provenance": [],
      "include_colab_link": true
    }
  },
  "nbformat": 4,
  "nbformat_minor": 5
}