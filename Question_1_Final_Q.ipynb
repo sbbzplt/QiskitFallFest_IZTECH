{
  "cells": [
    {
      "cell_type": "markdown",
      "metadata": {
        "id": "view-in-github",
        "colab_type": "text"
      },
      "source": [
        "<a href=\"https://colab.research.google.com/github/sbbzplt/QiskitFallFest_IZTECH/blob/master/Question_1_Final_Q.ipynb\" target=\"_parent\"><img src=\"https://colab.research.google.com/assets/colab-badge.svg\" alt=\"Open In Colab\"/></a>"
      ]
    },
    {
      "cell_type": "markdown",
      "id": "5c2c3869",
      "metadata": {
        "deletable": false,
        "editable": false,
        "nbgrader": {
          "cell_type": "markdown",
          "checksum": "2a5b093df76c8450d0f0e969441e5d7d",
          "grade": false,
          "grade_id": "cell-22f9202c18efbe8b",
          "locked": true,
          "schema_version": 3,
          "solution": false,
          "task": false
        },
        "id": "5c2c3869"
      },
      "source": [
        "# Instructions\n",
        "\n",
        "The places where you have enter code, to answer the questions, are marked with `# YOUR CODE HERE`. Once you have written your code you should remove the `raise NotImplementedError()` statement."
      ]
    },
    {
      "cell_type": "markdown",
      "id": "42b73f3e",
      "metadata": {
        "id": "42b73f3e"
      },
      "source": [
        "## Question 1\n",
        "\n",
        "Suppose that you are given a quantum circuit with 8 qubits. The first 6 qubits are initialized so that each pair of qubits is representing a number in binary. \n",
        "\n",
        "i.e. qubits 0,1 represent the first number, qubits 2,3 represent the second number, qubits 4,5 represent the third number.\n",
        "\n",
        "Given an integer $0\\leq k \\leq 3$ represented in binary format (i.e. using 2 bits), your task is to check whether $k$ exists within the 3 numbers you are given.\n",
        "\n",
        "Example:\n",
        "\n",
        "If the first 6 qubits are storing 110111 and $k$=11.\n",
        "#1 = 11\n",
        "#2 = 01\n",
        "#3 = 11\n",
        "\n",
        "So 11 exists among the three numbers.\n",
        "\n",
        "Implement the function `check_k` which stores 1 in qubit numbered 6 if $k$ exists, and 0 otherwise.\n",
        "\n",
        "You should try to use\n",
        "- as few qubits as possible\n",
        "\n",
        "Function `check_k` should have the following properties\n",
        "\n",
        "* Inputs: A quantum circuit with 10 qubits, integer $k$ given as a binary string\n",
        "* Returns: Quantum circuit"
      ]
    },
    {
      "cell_type": "code",
      "execution_count": null,
      "id": "42304e06",
      "metadata": {
        "nbgrader": {
          "grade": false,
          "grade_id": "cell-0f4849fc0faf37f8",
          "locked": false,
          "schema_version": 1,
          "solution": true
        },
        "id": "42304e06"
      },
      "outputs": [],
      "source": [
        "from qiskit import *\n",
        "\n",
        "def check_k(qc, k):\n",
        "    ### BEGIN SOLUTION\n",
        "\n",
        "    ### END SOLUTION\n",
        "    qc.measure(6,0)\n",
        "   \n",
        "    return qc\n",
        "    "
      ]
    },
    {
      "cell_type": "code",
      "execution_count": null,
      "id": "306c1c74",
      "metadata": {
        "id": "306c1c74",
        "outputId": "1fbdb616-8e76-4006-b61f-95d2700837ac"
      },
      "outputs": [
        {
          "name": "stdout",
          "output_type": "stream",
          "text": [
            "Occurence of 11: {'1': 1000}\n",
            "Occurence of 10: {'0': 1000}\n"
          ]
        }
      ],
      "source": [
        "# You can use this code to test your function\n",
        "\n",
        "qc = QuantumCircuit(10,1)\n",
        "\n",
        "#initialize to 000111\n",
        "qc.x(3)\n",
        "qc.x(4)\n",
        "qc.x(5)\n",
        "\n",
        "#Let's check occurence of \"11\", you should see 1 measured for 1000 times \n",
        "qc = check_k(qc,\"11\")\n",
        "job = execute(qc,Aer.get_backend('qasm_simulator'),shots=1000)\n",
        "counts = job.result().get_counts(qc)   \n",
        "print(\"Occurence of 11:\", counts)\n",
        "\n",
        "#Let's check occurence of \"10\", you should see 0 measured for 1000 times \n",
        "qc = check_k(qc,\"10\")\n",
        "job = execute(qc,Aer.get_backend('qasm_simulator'),shots=1000)\n",
        "counts = job.result().get_counts(qc)   \n",
        "print(\"Occurence of 10:\", counts)"
      ]
    },
    {
      "cell_type": "code",
      "execution_count": null,
      "id": "b89abf2c",
      "metadata": {
        "id": "b89abf2c",
        "outputId": "bc7c5fa8-f4b0-4ef0-c5bd-797d1a2f83d8"
      },
      "outputs": [
        {
          "name": "stdout",
          "output_type": "stream",
          "text": [
            "OrderedDict([('u', 80), ('cx', 64), ('barrier', 2), ('measure', 2)])\n"
          ]
        }
      ],
      "source": [
        "#You can use this cell to count the number of operations\n",
        "tp = transpile(qc, basis_gates = ['cx', 'u'])\n",
        "print(tp.count_ops())"
      ]
    },
    {
      "cell_type": "code",
      "execution_count": null,
      "id": "f8267f42",
      "metadata": {
        "nbgrader": {
          "grade": true,
          "grade_id": "cell-8e7125cbfccba3b9",
          "locked": true,
          "points": 0,
          "schema_version": 1,
          "solution": false
        },
        "id": "f8267f42",
        "outputId": "b69d6011-f200-4b57-d2d8-883e3be67f87"
      },
      "outputs": [
        {
          "name": "stdout",
          "output_type": "stream",
          "text": [
            "OrderedDict([('u', 43), ('cx', 32), ('barrier', 1), ('measure', 1)])\n"
          ]
        }
      ],
      "source": [
        "# hidden tests will be used for grading.\n",
        "# If this cell results in an error, your implementation is incorrect\n",
        "### BEGIN HIDDEN TESTS\n",
        "def initialize(qc,input):\n",
        "    for i in range(len(input)):\n",
        "        if input[i]==\"1\":\n",
        "            qc.x(i)\n",
        "    return qc\n",
        "        \n",
        "def generate_binary_strings(bit_count):\n",
        "    binary_strings = []\n",
        "    def genbin(n, bs=''):\n",
        "        if len(bs) == n:\n",
        "            binary_strings.append(bs)\n",
        "        else:\n",
        "            genbin(n, bs + '0')\n",
        "            genbin(n, bs + '1')\n",
        "    genbin(bit_count)\n",
        "    return binary_strings\n",
        "\n",
        "def check_occ(inp,k):\n",
        "    for i in range(3):\n",
        "        if inp[2*i]==k[0] and inp[2*i+1] == k[1]:\n",
        "            return \"1\"\n",
        "    return \"0\"\n",
        "\n",
        "inputs = generate_binary_strings(6)\n",
        "k_list = [\"00\",\"01\",\"10\",\"11\"] \n",
        "for inp in inputs:\n",
        "    for k in k_list: \n",
        "        qc = QuantumCircuit(10,1)\n",
        "        initialize(qc,inp)\n",
        "        qc = check_k(qc,k)\n",
        "        result = check_occ(inp,k)\n",
        "        job = execute(qc,Aer.get_backend('qasm_simulator'),shots=1000)\n",
        "        counts = job.result().get_counts(qc) \n",
        "        assert counts[result]==1000\n",
        "\n",
        "tp = transpile(qc, basis_gates = ['cx', 'u'])\n",
        "print(tp.count_ops())\n",
        "### END HIDDEN TESTS\n"
      ]
    }
  ],
  "metadata": {
    "celltoolbar": "Create Assignment",
    "kernelspec": {
      "display_name": "Python 3",
      "language": "python",
      "name": "python3"
    },
    "language_info": {
      "codemirror_mode": {
        "name": "ipython",
        "version": 3
      },
      "file_extension": ".py",
      "mimetype": "text/x-python",
      "name": "python",
      "nbconvert_exporter": "python",
      "pygments_lexer": "ipython3",
      "version": "3.7.3"
    },
    "colab": {
      "provenance": [],
      "include_colab_link": true
    }
  },
  "nbformat": 4,
  "nbformat_minor": 5
}