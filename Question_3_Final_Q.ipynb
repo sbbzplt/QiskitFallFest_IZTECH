{
  "cells": [
    {
      "cell_type": "markdown",
      "metadata": {
        "id": "view-in-github",
        "colab_type": "text"
      },
      "source": [
        "<a href=\"https://colab.research.google.com/github/sbbzplt/QiskitFallFest_IZTECH/blob/master/Question_3_Final_Q.ipynb\" target=\"_parent\"><img src=\"https://colab.research.google.com/assets/colab-badge.svg\" alt=\"Open In Colab\"/></a>"
      ]
    },
    {
      "cell_type": "markdown",
      "id": "5c2c3869",
      "metadata": {
        "deletable": false,
        "editable": false,
        "nbgrader": {
          "cell_type": "markdown",
          "checksum": "2a5b093df76c8450d0f0e969441e5d7d",
          "grade": false,
          "grade_id": "cell-22f9202c18efbe8b",
          "locked": true,
          "schema_version": 3,
          "solution": false,
          "task": false
        },
        "id": "5c2c3869"
      },
      "source": [
        "# Instructions\n",
        "\n",
        "The places where you have enter code, to answer the questions, are marked with `# YOUR CODE HERE`. Once you have written your code you should remove the `raise NotImplementedError()` statement."
      ]
    },
    {
      "cell_type": "markdown",
      "id": "d07d585a",
      "metadata": {
        "id": "d07d585a"
      },
      "source": [
        "## Question 3\n",
        "\n",
        "Suppose we have 4 guests and we want to list all possible ways they can seat using a quantum circuit.\n",
        "\n",
        "To represent who sits in each seat, we will use 2 qubits, hence 8 qubits in total. The four guests are labeled as 00, 01, 10, 11.\n",
        "\n",
        "Example: \n",
        "\n",
        "State `10 00 01 11` implies that \n",
        "(10 (qubits 0,1), 00 (qubits 1,2), 01 (qubits 3,4), 11 (qubits 5,6))\n",
        "\n",
        "- Guest 2 sits at position 0\n",
        "- Guest 0 sits at position 1 \n",
        "- Guest 1 sits at position 2\n",
        "- Guest 3 sits at position 3\n",
        "\n",
        "We want to use Grover’s Search to list all possible seating arrangements. So, a marked state is the one in which each person has a seat.\n",
        "\n",
        "For instance `10 00 01 00` is not a valid arrangement since 11 is not seated and 00 is seated in two places.\n",
        "\n",
        "You will write an oracle function to mark valid seating arrangements:\n",
        "\n",
        "- You need to check if each guest appears exactly once\n",
        "- Your oracle should output 1 in qubit numbered 7 to mark the valid states\n",
        "\n",
        "The circuit has 20 qubits but you should try to use\n",
        "- as few gates as possible\n",
        "- as few qubits as possible\n",
        "\n",
        "You oracle should have the following properties:\n",
        "\n",
        "* Inputs: No input\n",
        "* Returns: Quantum circuit\n",
        "\n"
      ]
    },
    {
      "cell_type": "code",
      "execution_count": null,
      "id": "379dc108",
      "metadata": {
        "nbgrader": {
          "grade": false,
          "grade_id": "cell-7ce9d86f1511a847",
          "locked": false,
          "schema_version": 1,
          "solution": true
        },
        "id": "379dc108"
      },
      "outputs": [],
      "source": [
        "from qiskit import *\n",
        "\n",
        "def oracle():\n",
        "    qc = QuantumCircuit(20,9)\n",
        "    ### BEGIN SOLUTION\n",
        "    # Your code here\n",
        "\n",
        "    \n",
        "\n",
        "    # Your code ends here\n",
        "    ### END SOLUTION    \n",
        "    return qc\n",
        "    "
      ]
    },
    {
      "cell_type": "code",
      "execution_count": null,
      "id": "49cdd121",
      "metadata": {
        "id": "49cdd121"
      },
      "outputs": [],
      "source": [
        "#This is used in function below\n",
        "\n",
        "def check_valid(counts):\n",
        "    valid = True\n",
        "    \n",
        "    for state in counts:\n",
        "        message = \"\"\n",
        "        guests = [\"00\",\"01\",\"10\",\"11\"]\n",
        "        occ = {guest: 0 for guest in guests}\n",
        "        for i in range(4):\n",
        "            for guest in guests:\n",
        "                if state[2*i]==guest[0] and state[2*i+1]==guest[1]:\n",
        "                    occ[guest]+=1\n",
        "                    message += f\"Guest {guest} sits in poisition {i}\\n\"      \n",
        "        if list(occ.values()) == [1,1,1,1] and state[8]==\"0\":\n",
        "            print(message)\n",
        "            print(\"Arrangement is valid but you do not mark it\\n\")\n",
        "            valid = False\n",
        "        elif list(occ.values())!= [1,1,1,1] and state[8]==\"1\":\n",
        "            print(message)\n",
        "            print(\"Arrangement is not valid but you mark it\\n\")\n",
        "            valid = False\n",
        "    return valid"
      ]
    },
    {
      "cell_type": "code",
      "execution_count": null,
      "id": "162cfc0d",
      "metadata": {
        "id": "162cfc0d",
        "outputId": "8bafa9da-e6c0-4f7a-9c8b-6043e6d50faf"
      },
      "outputs": [
        {
          "name": "stdout",
          "output_type": "stream",
          "text": [
            "Oracle is working\n"
          ]
        }
      ],
      "source": [
        "# You can use this code to test your function\n",
        "\n",
        "qc = QuantumCircuit(20,9)\n",
        "\n",
        "#Create equal superposition state\n",
        "for i in range(8):\n",
        "    qc.h(i)\n",
        "#Call oracle\n",
        "qc += oracle()\n",
        "\n",
        "#We are measuring in reverse order\n",
        "for i in range(9):\n",
        "    qc.measure(i,8-i)\n",
        "    \n",
        "job = execute(qc,Aer.get_backend('qasm_simulator'),shots=1000)\n",
        "counts = job.result().get_counts(qc)   \n",
        "if(check_valid(counts)):\n",
        "    print(\"Oracle is working\")\n"
      ]
    },
    {
      "cell_type": "code",
      "execution_count": null,
      "id": "5425ce26",
      "metadata": {
        "id": "5425ce26",
        "outputId": "1251b7b3-ca99-44b3-fb13-11ce34e82c10"
      },
      "outputs": [
        {
          "name": "stdout",
          "output_type": "stream",
          "text": [
            "OrderedDict([('u', 313), ('cx', 228), ('barrier', 10), ('measure', 9)])\n"
          ]
        }
      ],
      "source": [
        "#You can use this cell to count the number of operations \n",
        "from qiskit.converters import circuit_to_dag, dag_to_circuit\n",
        "tp = transpile(qc, basis_gates = ['cx', 'u'])\n",
        "print(tp.count_ops())"
      ]
    },
    {
      "cell_type": "code",
      "execution_count": null,
      "id": "950a0191",
      "metadata": {
        "nbgrader": {
          "grade": true,
          "grade_id": "cell-ee6caa56cfe85f1f",
          "locked": true,
          "points": 1,
          "schema_version": 1,
          "solution": false
        },
        "id": "950a0191",
        "outputId": "d3fcb415-7f75-4e1e-e6a7-67ad94fa1832"
      },
      "outputs": [
        {
          "name": "stdout",
          "output_type": "stream",
          "text": [
            "OrderedDict([('u', 313), ('cx', 228), ('barrier', 10), ('measure', 9)])\n"
          ]
        }
      ],
      "source": [
        "# hidden tests will be used for grading.\n",
        "# If this cell results in an error, your implementation is incorrect\n",
        "### BEGIN HIDDEN TESTS\n",
        "\n",
        "qc = QuantumCircuit(20,9)\n",
        "\n",
        "#Create equal superposition state\n",
        "for i in range(8):\n",
        "    qc.h(i)\n",
        "\n",
        "qc += oracle()\n",
        "\n",
        "#We are measuring in reverse order\n",
        "for i in range(9):\n",
        "    qc.measure(i,8-i)\n",
        "\n",
        "job = execute(qc,Aer.get_backend('qasm_simulator'),shots=1000)\n",
        "counts = job.result().get_counts(qc)   \n",
        "\n",
        "assert check_valid(counts) == True\n",
        "tp = transpile(qc, basis_gates = ['cx', 'u'])\n",
        "print(tp.count_ops())\n",
        "### END HIDDEN TESTS\n"
      ]
    }
  ],
  "metadata": {
    "celltoolbar": "Create Assignment",
    "kernelspec": {
      "display_name": "Python 3",
      "language": "python",
      "name": "python3"
    },
    "language_info": {
      "codemirror_mode": {
        "name": "ipython",
        "version": 3
      },
      "file_extension": ".py",
      "mimetype": "text/x-python",
      "name": "python",
      "nbconvert_exporter": "python",
      "pygments_lexer": "ipython3",
      "version": "3.7.3"
    },
    "colab": {
      "provenance": [],
      "include_colab_link": true
    }
  },
  "nbformat": 4,
  "nbformat_minor": 5
}