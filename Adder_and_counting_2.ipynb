{
  "cells": [
    {
      "cell_type": "markdown",
      "metadata": {
        "id": "view-in-github",
        "colab_type": "text"
      },
      "source": [
        "<a href=\"https://colab.research.google.com/github/sbbzplt/QiskitFallFest_IZTECH/blob/master/Adder_and_counting_2.ipynb\" target=\"_parent\"><img src=\"https://colab.research.google.com/assets/colab-badge.svg\" alt=\"Open In Colab\"/></a>"
      ]
    },
    {
      "cell_type": "code",
      "source": [
        "!pip install qiskit\n",
        "!pip install pylatexenc\n"
      ],
      "metadata": {
        "id": "PUoOASTbok97",
        "outputId": "c60b5794-c6e3-4269-93d8-9f5097d34a85",
        "colab": {
          "base_uri": "https://localhost:8080/"
        }
      },
      "execution_count": 1,
      "outputs": [
        {
          "output_type": "stream",
          "name": "stdout",
          "text": [
            "Looking in indexes: https://pypi.org/simple, https://us-python.pkg.dev/colab-wheels/public/simple/\n",
            "Collecting qiskit\n",
            "  Downloading qiskit-0.39.0.tar.gz (13 kB)\n",
            "Collecting qiskit-terra==0.22.0\n",
            "  Downloading qiskit_terra-0.22.0-cp37-cp37m-manylinux_2_17_x86_64.manylinux2014_x86_64.whl (4.7 MB)\n",
            "\u001b[K     |████████████████████████████████| 4.7 MB 12.6 MB/s \n",
            "\u001b[?25hCollecting qiskit-aer==0.11.0\n",
            "  Downloading qiskit_aer-0.11.0-cp37-cp37m-manylinux_2_17_x86_64.manylinux2014_x86_64.whl (19.2 MB)\n",
            "\u001b[K     |████████████████████████████████| 19.2 MB 5.1 MB/s \n",
            "\u001b[?25hCollecting qiskit-ibmq-provider==0.19.2\n",
            "  Downloading qiskit_ibmq_provider-0.19.2-py3-none-any.whl (240 kB)\n",
            "\u001b[K     |████████████████████████████████| 240 kB 26.0 MB/s \n",
            "\u001b[?25hRequirement already satisfied: numpy>=1.16.3 in /usr/local/lib/python3.7/dist-packages (from qiskit-aer==0.11.0->qiskit) (1.21.6)\n",
            "Requirement already satisfied: scipy>=1.0 in /usr/local/lib/python3.7/dist-packages (from qiskit-aer==0.11.0->qiskit) (1.7.3)\n",
            "Collecting requests-ntlm>=1.1.0\n",
            "  Downloading requests_ntlm-1.1.0-py2.py3-none-any.whl (5.7 kB)\n",
            "Collecting websockets>=10.0\n",
            "  Downloading websockets-10.4-cp37-cp37m-manylinux_2_5_x86_64.manylinux1_x86_64.manylinux_2_17_x86_64.manylinux2014_x86_64.whl (106 kB)\n",
            "\u001b[K     |████████████████████████████████| 106 kB 43.2 MB/s \n",
            "\u001b[?25hRequirement already satisfied: python-dateutil>=2.8.0 in /usr/local/lib/python3.7/dist-packages (from qiskit-ibmq-provider==0.19.2->qiskit) (2.8.2)\n",
            "Requirement already satisfied: urllib3>=1.21.1 in /usr/local/lib/python3.7/dist-packages (from qiskit-ibmq-provider==0.19.2->qiskit) (1.24.3)\n",
            "Requirement already satisfied: requests>=2.19 in /usr/local/lib/python3.7/dist-packages (from qiskit-ibmq-provider==0.19.2->qiskit) (2.23.0)\n",
            "Collecting websocket-client>=1.0.1\n",
            "  Downloading websocket_client-1.4.1-py3-none-any.whl (55 kB)\n",
            "\u001b[K     |████████████████████████████████| 55 kB 3.1 MB/s \n",
            "\u001b[?25hCollecting symengine>=0.9\n",
            "  Downloading symengine-0.9.2-cp37-cp37m-manylinux2010_x86_64.whl (37.5 MB)\n",
            "\u001b[K     |████████████████████████████████| 37.5 MB 1.2 MB/s \n",
            "\u001b[?25hRequirement already satisfied: importlib-metadata<5.0 in /usr/local/lib/python3.7/dist-packages (from qiskit-terra==0.22.0->qiskit) (4.13.0)\n",
            "Collecting retworkx>=0.11.0\n",
            "  Downloading retworkx-0.12.0-py3-none-any.whl (10 kB)\n",
            "Requirement already satisfied: sympy>=1.3 in /usr/local/lib/python3.7/dist-packages (from qiskit-terra==0.22.0->qiskit) (1.7.1)\n",
            "Collecting ply>=3.10\n",
            "  Downloading ply-3.11-py2.py3-none-any.whl (49 kB)\n",
            "\u001b[K     |████████████████████████████████| 49 kB 5.5 MB/s \n",
            "\u001b[?25hRequirement already satisfied: dill>=0.3 in /usr/local/lib/python3.7/dist-packages (from qiskit-terra==0.22.0->qiskit) (0.3.5.1)\n",
            "Requirement already satisfied: psutil>=5 in /usr/local/lib/python3.7/dist-packages (from qiskit-terra==0.22.0->qiskit) (5.4.8)\n",
            "Collecting shared-memory38\n",
            "  Downloading shared_memory38-0.1.2-cp37-cp37m-manylinux_2_5_x86_64.manylinux1_x86_64.whl (25 kB)\n",
            "Collecting stevedore>=3.0.0\n",
            "  Downloading stevedore-3.5.2-py3-none-any.whl (50 kB)\n",
            "\u001b[K     |████████████████████████████████| 50 kB 5.8 MB/s \n",
            "\u001b[?25hCollecting tweedledum<2.0,>=1.1\n",
            "  Downloading tweedledum-1.1.1-cp37-cp37m-manylinux_2_12_x86_64.manylinux2010_x86_64.whl (943 kB)\n",
            "\u001b[K     |████████████████████████████████| 943 kB 59.6 MB/s \n",
            "\u001b[?25hRequirement already satisfied: typing-extensions in /usr/local/lib/python3.7/dist-packages (from qiskit-terra==0.22.0->qiskit) (4.1.1)\n",
            "Requirement already satisfied: zipp>=0.5 in /usr/local/lib/python3.7/dist-packages (from importlib-metadata<5.0->qiskit-terra==0.22.0->qiskit) (3.9.0)\n",
            "Requirement already satisfied: six>=1.5 in /usr/local/lib/python3.7/dist-packages (from python-dateutil>=2.8.0->qiskit-ibmq-provider==0.19.2->qiskit) (1.15.0)\n",
            "Requirement already satisfied: idna<3,>=2.5 in /usr/local/lib/python3.7/dist-packages (from requests>=2.19->qiskit-ibmq-provider==0.19.2->qiskit) (2.10)\n",
            "Requirement already satisfied: certifi>=2017.4.17 in /usr/local/lib/python3.7/dist-packages (from requests>=2.19->qiskit-ibmq-provider==0.19.2->qiskit) (2022.9.24)\n",
            "Requirement already satisfied: chardet<4,>=3.0.2 in /usr/local/lib/python3.7/dist-packages (from requests>=2.19->qiskit-ibmq-provider==0.19.2->qiskit) (3.0.4)\n",
            "Collecting ntlm-auth>=1.0.2\n",
            "  Downloading ntlm_auth-1.5.0-py2.py3-none-any.whl (29 kB)\n",
            "Collecting cryptography>=1.3\n",
            "  Downloading cryptography-38.0.1-cp36-abi3-manylinux_2_24_x86_64.whl (4.0 MB)\n",
            "\u001b[K     |████████████████████████████████| 4.0 MB 50.9 MB/s \n",
            "\u001b[?25hRequirement already satisfied: cffi>=1.12 in /usr/local/lib/python3.7/dist-packages (from cryptography>=1.3->requests-ntlm>=1.1.0->qiskit-ibmq-provider==0.19.2->qiskit) (1.15.1)\n",
            "Requirement already satisfied: pycparser in /usr/local/lib/python3.7/dist-packages (from cffi>=1.12->cryptography>=1.3->requests-ntlm>=1.1.0->qiskit-ibmq-provider==0.19.2->qiskit) (2.21)\n",
            "Collecting rustworkx==0.12.0\n",
            "  Downloading rustworkx-0.12.0-cp37-cp37m-manylinux_2_17_x86_64.manylinux2014_x86_64.whl (1.9 MB)\n",
            "\u001b[K     |████████████████████████████████| 1.9 MB 52.9 MB/s \n",
            "\u001b[?25hCollecting pbr!=2.1.0,>=2.0.0\n",
            "  Downloading pbr-5.11.0-py2.py3-none-any.whl (112 kB)\n",
            "\u001b[K     |████████████████████████████████| 112 kB 51.5 MB/s \n",
            "\u001b[?25hRequirement already satisfied: mpmath>=0.19 in /usr/local/lib/python3.7/dist-packages (from sympy>=1.3->qiskit-terra==0.22.0->qiskit) (1.2.1)\n",
            "Building wheels for collected packages: qiskit\n",
            "  Building wheel for qiskit (setup.py) ... \u001b[?25l\u001b[?25hdone\n",
            "  Created wheel for qiskit: filename=qiskit-0.39.0-py3-none-any.whl size=12188 sha256=f6ba25b04f28da09a9489d1ebefc928d84edbb27820ad770871a423f7417f350\n",
            "  Stored in directory: /root/.cache/pip/wheels/63/d0/9a/257143dfc211b1732e1dadf41f281d477251d9cc0108a6f209\n",
            "Successfully built qiskit\n",
            "Installing collected packages: rustworkx, pbr, tweedledum, symengine, stevedore, shared-memory38, retworkx, ply, ntlm-auth, cryptography, websockets, websocket-client, requests-ntlm, qiskit-terra, qiskit-ibmq-provider, qiskit-aer, qiskit\n",
            "Successfully installed cryptography-38.0.1 ntlm-auth-1.5.0 pbr-5.11.0 ply-3.11 qiskit-0.39.0 qiskit-aer-0.11.0 qiskit-ibmq-provider-0.19.2 qiskit-terra-0.22.0 requests-ntlm-1.1.0 retworkx-0.12.0 rustworkx-0.12.0 shared-memory38-0.1.2 stevedore-3.5.2 symengine-0.9.2 tweedledum-1.1.1 websocket-client-1.4.1 websockets-10.4\n",
            "Looking in indexes: https://pypi.org/simple, https://us-python.pkg.dev/colab-wheels/public/simple/\n",
            "Collecting pylatexenc\n",
            "  Downloading pylatexenc-2.10.tar.gz (162 kB)\n",
            "\u001b[K     |████████████████████████████████| 162 kB 16.9 MB/s \n",
            "\u001b[?25hBuilding wheels for collected packages: pylatexenc\n",
            "  Building wheel for pylatexenc (setup.py) ... \u001b[?25l\u001b[?25hdone\n",
            "  Created wheel for pylatexenc: filename=pylatexenc-2.10-py3-none-any.whl size=136835 sha256=41ac5950a765ce62e44ecbe3f01f8132f6dd5058ff9009850ab2b41e81271d89\n",
            "  Stored in directory: /root/.cache/pip/wheels/f1/8a/f5/33ee79d4473eb201b519fa40f989b842e373237395a3421f52\n",
            "Successfully built pylatexenc\n",
            "Installing collected packages: pylatexenc\n",
            "Successfully installed pylatexenc-2.10\n"
          ]
        }
      ]
    },
    {
      "cell_type": "markdown",
      "metadata": {
        "id": "INfUW1TUgBHe"
      },
      "source": [
        "$ \\newcommand{\\ket}[1]{|#1\\rangle} $"
      ]
    },
    {
      "cell_type": "markdown",
      "metadata": {
        "id": "Z9pZJycogBHj"
      },
      "source": [
        "# Adder and Counting"
      ]
    },
    {
      "cell_type": "code",
      "execution_count": 1,
      "metadata": {
        "id": "VxBlqO2rgBHk"
      },
      "outputs": [],
      "source": [
        "from qiskit import QuantumRegister, ClassicalRegister, QuantumCircuit\n",
        "from qiskit import IBMQ, Aer, execute\n"
      ]
    },
    {
      "cell_type": "markdown",
      "metadata": {
        "id": "kGf9bOOegBHm"
      },
      "source": [
        "## Half Adder\n",
        "The half adder is used to add together the two least significant digits in a binary sum.\n",
        "It has two single binary inputs, called A and B, and two outputs C(carry out) and S(sum).\n",
        "The output C will be used as an input to the Full Adder, which will be explained later, for obtaining the value in the higher digit.\n",
        "\n",
        "Half adders can be described with the truth table shown below.\n",
        "\n",
        "|A(input)|B(input)|S(sum)|C(carry out)|\n",
        "|-----------|------------|------------|------------|\n",
        "|0|0|0|0|\n",
        "|0|1|1|0|\n",
        "|1|0|1|0|\n",
        "|1|1|0|1|\n",
        "\n",
        "From the truth table, you should notice that the carry output C is a result of operating an AND gate against A and B、where the output S is a result of operating an XOR against A and B.\n",
        "As we have already created the AND and XOR gates, we can combine these gates and create a half adder as follows.\n",
        "\n",
        "We denote our quantum register as 'q', classical registers as 'c', assign inputs A, B to q[0], q[1], the sum output S and  carry output C to q[2] and q[3].\""
      ]
    },
    {
      "cell_type": "code",
      "execution_count": 10,
      "metadata": {
        "id": "be889N8NgBHn",
        "outputId": "181ddde0-bdba-42cc-e80a-4fa058724bd0",
        "colab": {
          "base_uri": "https://localhost:8080/",
          "height": 294
        }
      },
      "outputs": [
        {
          "output_type": "display_data",
          "data": {
            "text/plain": [
              "<Figure size 551.834x325.08 with 1 Axes>"
            ],
            "image/png": "[encoded data removed]"
          },
          "metadata": {}
        },
        {
          "output_type": "stream",
          "name": "stdout",
          "text": [
            "{'00': 1000}\n"
          ]
        }
      ],
      "source": [
        "#Define registers and a quantum circuit\n",
        "q_a = QuantumRegister(1, \"a\")\n",
        "q_b = QuantumRegister(1, \"b\")\n",
        "q_sum = QuantumRegister(1, \"sum\")\n",
        "q_carry = QuantumRegister(1, \"carry\")\n",
        "c = ClassicalRegister(2, \"results\")\n",
        "qc = QuantumCircuit(q_a, q_b, q_sum, q_carry, c)\n",
        "\n",
        "#XOR\n",
        "qc.cx(q_b, q_sum)\n",
        "qc.cx(q_a, q_sum)\n",
        "\n",
        "qc.barrier()\n",
        "\n",
        "#AND\n",
        "qc.ccx(q_a, q_b, q_carry)\n",
        "\n",
        "qc.barrier()\n",
        "\n",
        "#Sum\n",
        "qc.measure(q_sum, c[0])\n",
        "#Carry out\n",
        "qc.measure(q_carry, c[1])\n",
        "\n",
        "display(qc.draw(output=\"mpl\"))\n",
        "\n",
        "backend = Aer.get_backend('qasm_simulator')\n",
        "job = execute(qc, backend, shots=1000)\n",
        "result = job.result()\n",
        "count =result.get_counts()\n",
        "print(count)\n"
      ]
    },
    {
      "cell_type": "markdown",
      "metadata": {
        "id": "CFbWFlWagBHp"
      },
      "source": [
        "Note that the half-adder above stores the solution on a separate qubit. We can think of this operation as `A + B`. \n",
        "\n",
        "Next, we will see that we can also implement in-place addition, `B+=A`. Fortunately, this can be done with the following circuit. "
      ]
    },
    {
      "cell_type": "code",
      "execution_count": 7,
      "metadata": {
        "id": "W49EPCApgBHp",
        "outputId": "304af826-9760-490b-a4f5-101bc3ff2d2b",
        "colab": {
          "base_uri": "https://localhost:8080/",
          "height": 185
        }
      },
      "outputs": [
        {
          "output_type": "execute_result",
          "data": {
            "text/plain": [
              "<Figure size 206.997x204.68 with 1 Axes>"
            ],
            "image/png": "[encoded data removed]"
          },
          "metadata": {},
          "execution_count": 7
        }
      ],
      "source": [
        "qc = QuantumCircuit(3)\n",
        "qc.ccx(0,1,2)\n",
        "qc.cx(0,1)\n",
        "\n",
        "qc.draw(output='mpl')"
      ]
    },
    {
      "cell_type": "markdown",
      "metadata": {
        "id": "G0T-hA3DgBHq"
      },
      "source": [
        "One can verify that if $\\ket{q_0}$ and $\\ket{q_1}$ are the digits being added, then on $\\ket{q_1}$ we will have the sum bit $\\Sigma$, and on $\\ket{q_2}$ we will obtain the carry bit $C_{\\rm out}$.\n",
        "\n",
        "<table>\n",
        "     <tr>\n",
        "        <td colspan=\"3\" align=\"center\"> Input </td>\n",
        "         <td> &nbsp; </td>\n",
        "        <td colspan=\"3\" align=\"center\"> Output </td>\n",
        "    </tr>\n",
        "    <tr>\n",
        "        <td> $q_0$ </td>\n",
        "        <td> $q_1$ </td>\n",
        "        <td> $q_2$</td>\n",
        "        <td> &nbsp; </td>\n",
        "        <td> $q_0$ </td>\n",
        "        <td> $q_1$ </td>\n",
        "        <td> $q_2$</td>\n",
        "    </tr>\n",
        "    <tr>\n",
        "        <td> 0 </td>\n",
        "        <td> 0 </td>\n",
        "        <td> 0 </td>\n",
        "        <td> &nbsp; </td>\n",
        "        <td> 0 </td>\n",
        "        <td> 0 </td>\n",
        "        <td> 0 </td>\n",
        "    </tr>\n",
        "    <tr>\n",
        "        <td> 0 </td>\n",
        "        <td> 1 </td>\n",
        "        <td> 0 </td>\n",
        "        <td> &nbsp; </td>\n",
        "        <td> 0 </td>\n",
        "        <td> 1 </td>\n",
        "        <td> 0 </td>\n",
        "    </tr>\n",
        "    <tr>\n",
        "        <td> 1 </td>\n",
        "        <td> 0 </td>\n",
        "        <td> 0 </td>\n",
        "        <td> &nbsp; </td>\n",
        "        <td> 1 </td>\n",
        "        <td> 1 </td>\n",
        "        <td> 0 </td>\n",
        "    </tr>\n",
        "    <tr>\n",
        "        <td> 1 </td>\n",
        "        <td> 1 </td>\n",
        "        <td> 0 </td>\n",
        "        <td> &nbsp; </td>\n",
        "        <td> 1 </td>\n",
        "        <td> 0 </td>\n",
        "        <td> 1 </td>\n",
        "    </tr>\n",
        "</table>\n",
        "\n",
        "\n",
        "What happens if the qubit $\\ket{q_2}$ is originally in state $\\ket{1}$? Let's check the following table.\n",
        "\n",
        "<table>\n",
        "        <tr>\n",
        "        <td colspan=\"3\" align=\"center\"> Input </td>\n",
        "         <td> &nbsp; </td>\n",
        "        <td colspan=\"3\" align=\"center\"> Output </td>\n",
        "    </tr>\n",
        "    <tr>\n",
        "        <td> $q_0$ </td>\n",
        "        <td> $q_1$ </td>\n",
        "        <td> $q_2$</td>\n",
        "        <td> &nbsp; </td>\n",
        "        <td> $q_0$ </td>\n",
        "        <td> $q_1$ </td>\n",
        "        <td> $q_2$</td>\n",
        "    </tr>\n",
        "    <tr>\n",
        "        <td> 0 </td>\n",
        "        <td> 0 </td>\n",
        "        <td> 1 </td>\n",
        "        <td> &nbsp; </td>\n",
        "        <td> 0 </td>\n",
        "        <td> 0 </td>\n",
        "        <td> 1 </td>\n",
        "    </tr>\n",
        "    <tr>\n",
        "        <td> 0 </td>\n",
        "        <td> 1 </td>\n",
        "        <td> 1 </td>\n",
        "        <td> &nbsp; </td>\n",
        "        <td> 0 </td>\n",
        "        <td> 1 </td>\n",
        "        <td> 1 </td>\n",
        "    </tr>\n",
        "    <tr>\n",
        "        <td> 1 </td>\n",
        "        <td> 0 </td>\n",
        "        <td> 1 </td>\n",
        "        <td> &nbsp; </td>\n",
        "        <td> 1 </td>\n",
        "        <td> 1 </td>\n",
        "        <td> 1 </td>\n",
        "    </tr>\n",
        "    <tr>\n",
        "        <td> 1 </td>\n",
        "        <td> 1 </td>\n",
        "        <td> 1 </td>\n",
        "        <td> &nbsp; </td>\n",
        "        <td> 1 </td>\n",
        "        <td> 0 </td>\n",
        "        <td> 0 </td>\n",
        "    </tr>\n",
        "</table>\n",
        "\n",
        "We see that, unless all $ q_0 $, $ q_1 $, and $ q_2 $ are in states $ \\ket{1} $ at the same time,  we can use this circuit to add the single bit stored in qubit $ q_0 $ to the number stored on 2 qubits $q_1$ and $q_2$."
      ]
    },
    {
      "cell_type": "markdown",
      "metadata": {
        "id": "7rq3e_ahgBHr"
      },
      "source": [
        "## Counting\n",
        "\n",
        "Suppose that we are given $n$ bits and we are asked how many of the bits are set to 1. At this point, we know how to add two bits and now we will implement the procedure for counting by adding multiple bits consecutively on top of each other. \n",
        "\n",
        "We will store the output in qubits $\\ket{q_2}$ and $\\ket{q_3}$ where $\\ket{q_2}$ represents the sum and $\\ket{q_3}$ represents the carry. We will perform in place addition, meaning that we will first add the bit represented by $\\ket{q_0}$ to the output and then do the same for the bit stored in $\\ket{q_1}$.\n",
        "\n",
        "In summary, we will perform the following operations: (`sum` is representing the sum stored in qubits $\\ket{q_2}$ and $\\ket{q_3}$.)\n",
        "\n",
        "First, we do `sum = sum + q0` "
      ]
    },
    {
      "cell_type": "code",
      "execution_count": null,
      "metadata": {
        "id": "JZApQhRggBHs"
      },
      "outputs": [],
      "source": [
        "qc = QuantumCircuit(4)\n",
        "qc.ccx(0,2,3)\n",
        "qc.cx(0,2)\n",
        "qc.draw(output=\"mpl\")\n"
      ]
    },
    {
      "cell_type": "markdown",
      "metadata": {
        "id": "SXRgx725gBHs"
      },
      "source": [
        "Remark that initially $ \\ket{q_2} $ is in state 0, and so we can also omit CCX.\n",
        "\n",
        "After the first addition, $\\ket{q_2}$ either stores 0 or 1. Now let's add the bit stored in $\\ket{q_1}$ to the output."
      ]
    },
    {
      "cell_type": "markdown",
      "metadata": {
        "id": "k1AfOAl2gBHs"
      },
      "source": [
        "Second, we do `sum = sum + q1`"
      ]
    },
    {
      "cell_type": "code",
      "execution_count": null,
      "metadata": {
        "id": "ZzXG_axTgBHt"
      },
      "outputs": [],
      "source": [
        "qc = QuantumCircuit(4)\n",
        "\n",
        "qc.ccx(0,2,3)\n",
        "qc.cx(0,2)\n",
        "\n",
        "qc.ccx(1,2,3)\n",
        "qc.cx(1,2)\n",
        "\n",
        "qc.draw(output=\"mpl\")"
      ]
    },
    {
      "cell_type": "markdown",
      "metadata": {
        "id": "ZJg8AOBfgBHu"
      },
      "source": [
        "Now let's check the correctness of the above circuit by trying different inputs."
      ]
    },
    {
      "cell_type": "code",
      "execution_count": null,
      "metadata": {
        "id": "8YWqUG0cgBHu"
      },
      "outputs": [],
      "source": [
        "for input in ['00','01','10','11']:\n",
        "    qc = QuantumCircuit(4,4)\n",
        "\n",
        "    # initialization\n",
        "    if input[0] == '1':\n",
        "        qc.x(0)\n",
        "    if input[1] == '1':\n",
        "        qc.x(1)\n",
        "\n",
        "    # add qubit 0 \n",
        "    # qubits 2. and 3. store the sum \n",
        "    qc.ccx(0,2,3) # since we know that q[2] is set to zero initially, we could omit this control \n",
        "    qc.cx(0,2)\n",
        "    \n",
        "    ## add qubit 1\n",
        "    qc.ccx(1,2,3)\n",
        "    qc.cx(1,2)\n",
        "\n",
        "    #Measure in reverse order\n",
        "    for i in range(4):\n",
        "        qc.measure(i,3-i)\n",
        "\n",
        "    job = execute(qc,Aer.get_backend('qasm_simulator'),shots=1000)\n",
        "    counts = job.result().get_counts(qc)   \n",
        "    # print the sum\n",
        "    print(\"Input:\", input)\n",
        "    print(\"The sum should be equal to\", int(input[0])+int(input[1]))\n",
        "    print(\"According to quantum circuit:\", 2*int(list(counts.keys())[0][3]) + int(list(counts.keys())[0][2])) \n",
        "    print(\"\")"
      ]
    },
    {
      "cell_type": "markdown",
      "metadata": {
        "id": "dKvnadYSgBHv"
      },
      "source": [
        "In the next task, you will implement the same procedure this time adding the first three bits. The sum will be stored in qubits $\\ket{q_3}$ and $\\ket{q_4}$. After adding the first two bits, it can be the case that $\\ket{q_3}$ stores 0 and $\\ket{q_4}$ stores 1, corresponding to the sum $2=10_2$.  From the table, we know that the same implementation idea still works independent of whether $\\ket{q_4}$ stores 1 or not."
      ]
    },
    {
      "cell_type": "markdown",
      "metadata": {
        "id": "RDm-LqEwgBHw"
      },
      "source": [
        "### Task 1\n",
        "Add the first three bits stored in qubits 0-2 and store the sum on qubits 3-4."
      ]
    },
    {
      "cell_type": "code",
      "execution_count": null,
      "metadata": {
        "id": "aGu1K2-5gBHw"
      },
      "outputs": [],
      "source": [
        "for input in  ['000','001','010','011','100','101','110','111']:\n",
        "    qc = QuantumCircuit(5,5)\n",
        "\n",
        "    if input[0] == '1':\n",
        "        qc.x(0)\n",
        "    if input[1] == '1':\n",
        "        qc.x(1)\n",
        "    if input[2] == '1':\n",
        "        qc.x(2)\n",
        "\n",
        "    # your solution here\n",
        "    #\n",
        "    #\n",
        "    \n",
        "    #Measure in reverse order\n",
        "    for i in range(5):\n",
        "        qc.measure(i,4-i)\n",
        "\n",
        "    job = execute(qc,Aer.get_backend('qasm_simulator'),shots=1000)\n",
        "    counts = job.result().get_counts(qc)   \n",
        "    # print the sum\n",
        "    print(\"Input:\", input)\n",
        "    print(\"The sum should be equal to\", int(input[0])+int(input[1])+int(input[2]))\n",
        "    print(\"According to quantum circuit:\", 2*int(list(counts.keys())[0][4]) + int(list(counts.keys())[0][3])) \n",
        "    print(\"\")"
      ]
    },
    {
      "cell_type": "markdown",
      "metadata": {
        "id": "OOzvXw1hgBHx"
      },
      "source": [
        "[click for our solution](Adder_and_counting_solutions.ipynb#task1)"
      ]
    },
    {
      "cell_type": "markdown",
      "metadata": {
        "id": "outJuuzwgBHy"
      },
      "source": [
        "### Generalization  "
      ]
    },
    {
      "cell_type": "markdown",
      "metadata": {
        "id": "1EEkkzM2gBHy"
      },
      "source": [
        "Check the following circuit which implements summation of the first four bits. When we add the fourth bit, we introduce the multi-controlled $NOT$ as it is possible that the sum is equal to 3 at this point and an overflow takes place. We store the output in qubits $\\ket{q_4}, \\ket{q_5}$ and $\\ket{q_6}$."
      ]
    },
    {
      "cell_type": "markdown",
      "metadata": {
        "id": "tMptqYXegBHy"
      },
      "source": [
        "The line below generates all possible inputs of length 4 and we will use it in our code."
      ]
    },
    {
      "cell_type": "code",
      "execution_count": null,
      "metadata": {
        "id": "q8u3G6C1gBHz"
      },
      "outputs": [],
      "source": [
        "input_list = [bin(i)[2:].zfill(4) for i in range(0,2**4)]\n",
        "print(input_list)"
      ]
    },
    {
      "cell_type": "code",
      "execution_count": null,
      "metadata": {
        "id": "B3H6mPJsgBHz"
      },
      "outputs": [],
      "source": [
        "for input in input_list:\n",
        "    qc = QuantumCircuit(7,7)\n",
        "\n",
        "    #We can do the initialization inside a for loop\n",
        "    for i in range(4):\n",
        "        if input[i]=='1':\n",
        "            qc.x(i)\n",
        "\n",
        "    # add qubit 0\n",
        "    qc.cx(0,4)\n",
        "\n",
        "    # add qubit 1\n",
        "    qc.ccx(1,4,5)\n",
        "    qc.cx(1,4)\n",
        "\n",
        "    # add qubit 2\n",
        "    qc.ccx(2,4,5)\n",
        "    qc.cx(2,4)\n",
        "\n",
        "    # add qubit 3\n",
        "    qc.mct([3,4,5],6)\n",
        "    qc.ccx(3,4,5)\n",
        "    qc.cx(3,4)\n",
        "    \n",
        "    #Measure in reverse order\n",
        "    for i in range(7):\n",
        "        qc.measure(i,6-i)\n",
        "\n",
        "    job = execute(qc,Aer.get_backend('qasm_simulator'),shots=1000)\n",
        "    counts = job.result().get_counts(qc)   \n",
        "    # print the sum\n",
        "    print(\"Input:\", input)\n",
        "    print(\"The sum should be equal to\",  int(input[0])+int(input[1])+int(input[2])+int(input[3]))\n",
        "    print(\"According to quantum circuit:\",4*int(list(counts.keys())[0][6])+ 2*int(list(counts.keys())[0][5]) + int(list(counts.keys())[0][4])) \n",
        "    print(\"\")\n",
        "    "
      ]
    },
    {
      "cell_type": "markdown",
      "metadata": {
        "id": "iNP2w2tQgBHz"
      },
      "source": [
        "The same pattern will continue if we include the bits $ a_5, a_6, a_7 $. As the sum will be at most 7, we use still 3 bits for storing the output (summation).\n",
        "\n",
        "After including $ a_8 $, we can have an overflow and so we use a multi-controlled not gate to check it. Besides, we use 4 bits for storing the output, which will be enough when adding $ a_9,\\dots,a_{15} $.\n",
        "\n",
        "This pattern repeats itself whenever including the new bits. A new (qu)bit is used by the output when the $ 2^i $-th bit is included in the summation, and a new multi-controlled not gate should be used to check the overflow."
      ]
    },
    {
      "cell_type": "markdown",
      "metadata": {
        "id": "PmGk54avgBH0"
      },
      "source": [
        "---"
      ]
    },
    {
      "cell_type": "markdown",
      "metadata": {
        "id": "3hFrKHfRgBH0"
      },
      "source": [
        "Let's review the whole process from the beginning.\n",
        "\n",
        "There is a single input (qu)bit $a_0$ and a single output qubit, say $b_4$, initially set to $0$.  After the operation $b_4 = b_4+a_0 $, $ b_4 $ can be at most 1, which can be accomplished by using a single $CX$ operator.\n"
      ]
    },
    {
      "cell_type": "code",
      "execution_count": null,
      "metadata": {
        "id": "o_SVkU38gBH0"
      },
      "outputs": [],
      "source": [
        "qc = QuantumCircuit(7,7)\n",
        "\n",
        "# add qubit 0\n",
        "qc.cx(0,4)\n",
        "qc.draw(output=\"mpl\")"
      ]
    },
    {
      "cell_type": "markdown",
      "metadata": {
        "id": "0NTUEJ0ygBH1"
      },
      "source": [
        "Now we add one more bit ($a_1$) to the summation. At this point, $b_4$ can be 0 or 1. If $a_1=1$ and $b_4=1$, then there will be an overflow to the next qubit since the sum will be $2=10_2$. We can check this using a $CCX$ gate where $a_1$ and $b_4$ are the control and $b_4$ is the target (qu)bit. (The same as the half adder above.)"
      ]
    },
    {
      "cell_type": "markdown",
      "metadata": {
        "id": "UTsXIz73gBH1"
      },
      "source": [
        "Similarly, we can add $a_2$. If $a_2=1$ and the current sum is 1, then the new sum will be equal to 2 and the overflow will take place. If the current sum is equal to 2, then there is already an overflow and the new sum will become $3=11_2$."
      ]
    },
    {
      "cell_type": "code",
      "execution_count": null,
      "metadata": {
        "id": "pgkGhQ-pgBH1"
      },
      "outputs": [],
      "source": [
        "qc = QuantumCircuit(7,7)\n",
        "\n",
        "# add qubit 0\n",
        "qc.cx(0,4)\n",
        "\n",
        "# add qubit 1\n",
        "qc.ccx(1,4,5)\n",
        "qc.cx(1,4)\n",
        "\n",
        "# add qubit 2\n",
        "qc.ccx(2,4,5)\n",
        "qc.cx(2,4)\n",
        "    \n",
        "qc.draw(output=\"mpl\")"
      ]
    },
    {
      "cell_type": "markdown",
      "metadata": {
        "id": "SdDCMDI4gBH1"
      },
      "source": [
        "Now we will add one more bit $a_3$. If $a_3= 1$ and both $b_4$ and $b_5$ are equal to 1, that is if the current sum is 3, then the sum will become 4 and we need an additional bit $b_6$. Hence, we need to check $a_3$, $b_4$, $b_5$ for equality to 1 and apply a $NOT$ gate to $\\ket{b_6}$ if this is the case. "
      ]
    },
    {
      "cell_type": "code",
      "execution_count": null,
      "metadata": {
        "id": "N2WZiGXvgBH3"
      },
      "outputs": [],
      "source": [
        "qc = QuantumCircuit(7,7)\n",
        "\n",
        "# add qubit 0\n",
        "qc.cx(0,4)\n",
        "\n",
        "# add qubit 1\n",
        "qc.ccx(1,4,5)\n",
        "qc.cx(1,4)\n",
        "\n",
        "# add qubit 2\n",
        "qc.ccx(2,4,5)\n",
        "qc.cx(2,4)\n",
        "\n",
        "# add qubit 3\n",
        "qc.mct([3,4,5],6)\n",
        "qc.ccx(3,4,5)\n",
        "qc.cx(3,4)\n",
        "    \n",
        "qc.draw(output=\"mpl\")"
      ]
    },
    {
      "cell_type": "markdown",
      "metadata": {
        "id": "he-8bHPLgBH6"
      },
      "source": [
        "### Task 2\n",
        "\n",
        "By using the given idea, add the values of seven bits, namely $ q_0,\\ldots,q_6 $, and write the results on the qubits $ q_7,q_8, q_9 $.\n",
        "\n",
        "*Note:*  You may use for-loops instead of adding each qubit one by one."
      ]
    },
    {
      "cell_type": "code",
      "execution_count": null,
      "metadata": {
        "id": "aNEXmjfygBH7"
      },
      "outputs": [],
      "source": [
        "# Generate the inputs\n",
        "input_list = [bin(i)[2:].zfill(7) for i in range(0,2**7)]"
      ]
    },
    {
      "cell_type": "code",
      "execution_count": null,
      "metadata": {
        "id": "6fXDCToUgBH9"
      },
      "outputs": [],
      "source": [
        "for input in input_list:\n",
        "    qc = QuantumCircuit(10,10)\n",
        "\n",
        "    #We can do the initialization inside a for loop\n",
        "    for i in range(7):\n",
        "        if input[i]=='1':\n",
        "            qc.x(i)\n",
        "\n",
        "    #\n",
        "    #Your code here\n",
        "    #\n",
        "    \n",
        "    #Measure in reverse order\n",
        "    for i in range(10):\n",
        "        qc.measure(i,9-i)\n",
        "\n",
        "    job = execute(qc,Aer.get_backend('qasm_simulator'),shots=1000)\n",
        "    counts = job.result().get_counts(qc)   \n",
        "    # print the sum\n",
        "    print(\"Input:\", input)\n",
        "    print(\"The sum should be equal to\",  sum(int(i) for i in input))\n",
        "    print(\"According to quantum circuit:\",4*int(list(counts.keys())[0][9])+ 2*int(list(counts.keys())[0][8]) + int(list(counts.keys())[0][7])) \n",
        "    print(\"\")\n",
        "    "
      ]
    },
    {
      "cell_type": "markdown",
      "metadata": {
        "id": "QbRaCYrDgBH-"
      },
      "source": [
        "[click for our solution](Adder_and_counting_solutions.ipynb#task2)"
      ]
    },
    {
      "cell_type": "markdown",
      "metadata": {
        "id": "tkEYPUSKgBH_"
      },
      "source": [
        "## IMPORTANT: How to calculate Quantum Costs using an Unroller\n",
        "There are several ways to evaluate a program (quantum circuit). Such as:\n",
        "\n",
        "1. Number of quantum bits\n",
        "2. Depth\n",
        "3. Program Execution Speed (Runtime)\n",
        "4. Number of instructions\n",
        "\n",
        "These are all important measurements that impact the results and throughput of quantum computation.\n",
        "\n",
        "Any given quantum circuit can be decomposed into single-qubit gates (an instruction given to a single qubit) and two-qubit gates. With the current Noisy Intermediate-Scale Quantum (NISQ) devices, noises are introduced more heavily when implementing CX gates.\n",
        "\n",
        "Let's check the following example."
      ]
    },
    {
      "cell_type": "code",
      "execution_count": null,
      "metadata": {
        "id": "UfBGG-IpgBH_",
        "outputId": "d9be5e5d-11e5-4cfb-bd29-874f61c7f520"
      },
      "outputs": [
        {
          "data": {
            "image/png": "[encoded data removed]",
            "text/plain": [
              "<Figure size 400.578x325.08 with 1 Axes>"
            ]
          },
          "execution_count": 15,
          "metadata": {},
          "output_type": "execute_result"
        }
      ],
      "source": [
        "q = QuantumRegister(4, 'q0')\n",
        "c = ClassicalRegister(1, 'c0')\n",
        "qc = QuantumCircuit(q, c)\n",
        "qc.ccx(q[0], q[1], q[2])\n",
        "qc.cx(q[3], q[1])\n",
        "qc.h(q[3])\n",
        "qc.ccx(q[3], q[2], q[1])\n",
        "qc.measure(q[3],c[0])\n",
        "qc.draw(output='mpl')"
      ]
    },
    {
      "cell_type": "markdown",
      "metadata": {
        "id": "XTPv3scGgBIA"
      },
      "source": [
        "You can use the following function to count the number of operations in the circuit."
      ]
    },
    {
      "cell_type": "code",
      "execution_count": null,
      "metadata": {
        "id": "N0Kx6fmcgBIA",
        "outputId": "aae9015c-b5e1-4110-d87d-17c7852fb1cf"
      },
      "outputs": [
        {
          "data": {
            "text/plain": [
              "OrderedDict([('ccx', 2), ('cx', 1), ('h', 1), ('measure', 1)])"
            ]
          },
          "execution_count": 16,
          "metadata": {},
          "output_type": "execute_result"
        }
      ],
      "source": [
        "qc.count_ops()"
      ]
    },
    {
      "cell_type": "markdown",
      "metadata": {
        "id": "o0zBRkpHgBIA"
      },
      "source": [
        "As you can see, this quantum circuit contains a Hadamard gate, a CX gate and CCX gates. \n",
        "\n",
        "By using qiskit transpiler, we can decompose the circuit into an equivalent one using only a 1-qubit gate called `u`-gate and CNOT gate."
      ]
    },
    {
      "cell_type": "code",
      "execution_count": null,
      "metadata": {
        "id": "MxvbtlGggBIB",
        "outputId": "2ee33467-d033-4dd1-a39e-b88db6ac4e05"
      },
      "outputs": [
        {
          "name": "stdout",
          "output_type": "stream",
          "text": [
            "OrderedDict([('u', 17), ('cx', 13), ('measure', 1)])\n"
          ]
        }
      ],
      "source": [
        "from qiskit import transpile\n",
        "\n",
        "tp = transpile(qc, basis_gates = ['cx', 'u'])\n",
        "print(tp.count_ops())\n"
      ]
    },
    {
      "cell_type": "code",
      "execution_count": null,
      "metadata": {
        "id": "k_p5VQeRgBIC",
        "outputId": "800edf66-5154-49b5-ac40-47eb694e106f"
      },
      "outputs": [
        {
          "data": {
            "image/png": "[encoded data removed]",
            "text/plain": [
              "<Figure size 1604.58x686.28 with 1 Axes>"
            ]
          },
          "execution_count": 19,
          "metadata": {},
          "output_type": "execute_result"
        }
      ],
      "source": [
        "tp.draw(output='mpl')"
      ]
    }
  ],
  "metadata": {
    "kernelspec": {
      "display_name": "Python 3",
      "language": "python",
      "name": "python3"
    },
    "language_info": {
      "codemirror_mode": {
        "name": "ipython",
        "version": 3
      },
      "file_extension": ".py",
      "mimetype": "text/x-python",
      "name": "python",
      "nbconvert_exporter": "python",
      "pygments_lexer": "ipython3",
      "version": "3.7.3"
    },
    "colab": {
      "provenance": [],
      "include_colab_link": true
    }
  },
  "nbformat": 4,
  "nbformat_minor": 0
}