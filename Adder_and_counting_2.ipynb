{
  "cells": [
    {
      "cell_type": "markdown",
      "metadata": {
        "id": "view-in-github",
        "colab_type": "text"
      },
      "source": [
        "<a href=\"https://colab.research.google.com/github/sbbzplt/QiskitFallFest_IZTECH/blob/master/Adder_and_counting_2.ipynb\" target=\"_parent\"><img src=\"https://colab.research.google.com/assets/colab-badge.svg\" alt=\"Open In Colab\"/></a>"
      ]
    },
    {
      "cell_type": "markdown",
      "metadata": {
        "id": "INfUW1TUgBHe"
      },
      "source": [
        "$ \\newcommand{\\ket}[1]{|#1\\rangle} $"
      ]
    },
    {
      "cell_type": "markdown",
      "metadata": {
        "id": "Z9pZJycogBHj"
      },
      "source": [
        "# Adder and Counting"
      ]
    },
    {
      "cell_type": "code",
      "execution_count": null,
      "metadata": {
        "id": "VxBlqO2rgBHk"
      },
      "outputs": [],
      "source": [
        "from qiskit import QuantumRegister, ClassicalRegister, QuantumCircuit\n",
        "from qiskit import IBMQ, Aer, execute\n"
      ]
    },
    {
      "cell_type": "markdown",
      "metadata": {
        "id": "kGf9bOOegBHm"
      },
      "source": [
        "## Half Adder\n",
        "The half adder is used to add together the two least significant digits in a binary sum.\n",
        "It has two single binary inputs, called A and B, and two outputs C(carry out) and S(sum).\n",
        "The output C will be used as an input to the Full Adder, which will be explained later, for obtaining the value in the higher digit.\n",
        "\n",
        "Half adders can be described with the truth table shown below.\n",
        "\n",
        "|A(input)|B(input)|S(sum)|C(carry out)|\n",
        "|-----------|------------|------------|------------|\n",
        "|0|0|0|0|\n",
        "|0|1|1|0|\n",
        "|1|0|1|0|\n",
        "|1|1|0|1|\n",
        "\n",
        "From the truth table, you should notice that the carry output C is a result of operating an AND gate against A and B、where the output S is a result of operating an XOR against A and B.\n",
        "As we have already created the AND and XOR gates, we can combine these gates and create a half adder as follows.\n",
        "\n",
        "We denote our quantum register as 'q', classical registers as 'c', assign inputs A, B to q[0], q[1], the sum output S and  carry output C to q[2] and q[3].\""
      ]
    },
    {
      "cell_type": "code",
      "execution_count": null,
      "metadata": {
        "id": "be889N8NgBHn"
      },
      "outputs": [],
      "source": [
        "#Define registers and a quantum circuit\n",
        "q = QuantumRegister(5)\n",
        "c = ClassicalRegister(2)\n",
        "qc = QuantumCircuit(q,c)\n",
        "\n",
        "#XOR\n",
        "qc.cx(q[1], q[2])\n",
        "qc.cx(q[0], q[2])\n",
        "\n",
        "qc.barrier(q)\n",
        "\n",
        "#AND\n",
        "qc.ccx(q[0], q[1], q[3])\n",
        "\n",
        "qc.barrier(q)\n",
        "\n",
        "#Sum\n",
        "qc.measure(q[2], c[0])\n",
        "#Carry out\n",
        "qc.measure(q[3], c[1])\n",
        "\n",
        "backend = Aer.get_backend('qasm_simulator')\n",
        "job = execute(qc, backend, shots=1000)\n",
        "result = job.result()\n",
        "count =result.get_counts()\n",
        "print(count)\n",
        "qc.draw(output='mpl')"
      ]
    },
    {
      "cell_type": "markdown",
      "metadata": {
        "id": "CFbWFlWagBHp"
      },
      "source": [
        "Note that the half-adder above stores the solution on a separate qubit. We can think of this operation as `A + B`. \n",
        "\n",
        "Next, we will see that we can also implement in-place addition, `B+=A`. Fortunately, this can be done with the following circuit. "
      ]
    },
    {
      "cell_type": "code",
      "execution_count": null,
      "metadata": {
        "id": "W49EPCApgBHp"
      },
      "outputs": [],
      "source": [
        "qc = QuantumCircuit(3)\n",
        "qc.ccx(0,1,2)\n",
        "qc.cx(0,1)\n",
        "\n",
        "qc.draw(output='mpl')"
      ]
    },
    {
      "cell_type": "markdown",
      "metadata": {
        "id": "G0T-hA3DgBHq"
      },
      "source": [
        "One can verify that if $\\ket{q_0}$ and $\\ket{q_1}$ are the digits being added, then on $\\ket{q_1}$ we will have the sum bit $\\Sigma$, and on $\\ket{q_2}$ we will obtain the carry bit $C_{\\rm out}$.\n",
        "\n",
        "<table>\n",
        "     <tr>\n",
        "        <td colspan=\"3\" align=\"center\"> Input </td>\n",
        "         <td> &nbsp; </td>\n",
        "        <td colspan=\"3\" align=\"center\"> Output </td>\n",
        "    </tr>\n",
        "    <tr>\n",
        "        <td> $q_0$ </td>\n",
        "        <td> $q_1$ </td>\n",
        "        <td> $q_2$</td>\n",
        "        <td> &nbsp; </td>\n",
        "        <td> $q_0$ </td>\n",
        "        <td> $q_1$ </td>\n",
        "        <td> $q_2$</td>\n",
        "    </tr>\n",
        "    <tr>\n",
        "        <td> 0 </td>\n",
        "        <td> 0 </td>\n",
        "        <td> 0 </td>\n",
        "        <td> &nbsp; </td>\n",
        "        <td> 0 </td>\n",
        "        <td> 0 </td>\n",
        "        <td> 0 </td>\n",
        "    </tr>\n",
        "    <tr>\n",
        "        <td> 0 </td>\n",
        "        <td> 1 </td>\n",
        "        <td> 0 </td>\n",
        "        <td> &nbsp; </td>\n",
        "        <td> 0 </td>\n",
        "        <td> 1 </td>\n",
        "        <td> 0 </td>\n",
        "    </tr>\n",
        "    <tr>\n",
        "        <td> 1 </td>\n",
        "        <td> 0 </td>\n",
        "        <td> 0 </td>\n",
        "        <td> &nbsp; </td>\n",
        "        <td> 1 </td>\n",
        "        <td> 1 </td>\n",
        "        <td> 0 </td>\n",
        "    </tr>\n",
        "    <tr>\n",
        "        <td> 1 </td>\n",
        "        <td> 1 </td>\n",
        "        <td> 0 </td>\n",
        "        <td> &nbsp; </td>\n",
        "        <td> 1 </td>\n",
        "        <td> 0 </td>\n",
        "        <td> 1 </td>\n",
        "    </tr>\n",
        "</table>\n",
        "\n",
        "\n",
        "What happens if the qubit $\\ket{q_2}$ is originally in state $\\ket{1}$? Let's check the following table.\n",
        "\n",
        "<table>\n",
        "        <tr>\n",
        "        <td colspan=\"3\" align=\"center\"> Input </td>\n",
        "         <td> &nbsp; </td>\n",
        "        <td colspan=\"3\" align=\"center\"> Output </td>\n",
        "    </tr>\n",
        "    <tr>\n",
        "        <td> $q_0$ </td>\n",
        "        <td> $q_1$ </td>\n",
        "        <td> $q_2$</td>\n",
        "        <td> &nbsp; </td>\n",
        "        <td> $q_0$ </td>\n",
        "        <td> $q_1$ </td>\n",
        "        <td> $q_2$</td>\n",
        "    </tr>\n",
        "    <tr>\n",
        "        <td> 0 </td>\n",
        "        <td> 0 </td>\n",
        "        <td> 1 </td>\n",
        "        <td> &nbsp; </td>\n",
        "        <td> 0 </td>\n",
        "        <td> 0 </td>\n",
        "        <td> 1 </td>\n",
        "    </tr>\n",
        "    <tr>\n",
        "        <td> 0 </td>\n",
        "        <td> 1 </td>\n",
        "        <td> 1 </td>\n",
        "        <td> &nbsp; </td>\n",
        "        <td> 0 </td>\n",
        "        <td> 1 </td>\n",
        "        <td> 1 </td>\n",
        "    </tr>\n",
        "    <tr>\n",
        "        <td> 1 </td>\n",
        "        <td> 0 </td>\n",
        "        <td> 1 </td>\n",
        "        <td> &nbsp; </td>\n",
        "        <td> 1 </td>\n",
        "        <td> 1 </td>\n",
        "        <td> 1 </td>\n",
        "    </tr>\n",
        "    <tr>\n",
        "        <td> 1 </td>\n",
        "        <td> 1 </td>\n",
        "        <td> 1 </td>\n",
        "        <td> &nbsp; </td>\n",
        "        <td> 1 </td>\n",
        "        <td> 0 </td>\n",
        "        <td> 0 </td>\n",
        "    </tr>\n",
        "</table>\n",
        "\n",
        "We see that, unless all $ q_0 $, $ q_1 $, and $ q_2 $ are in states $ \\ket{1} $ at the same time,  we can use this circuit to add the single bit stored in qubit $ q_0 $ to the number stored on 2 qubits $q_1$ and $q_2$."
      ]
    },
    {
      "cell_type": "markdown",
      "metadata": {
        "id": "7rq3e_ahgBHr"
      },
      "source": [
        "## Counting\n",
        "\n",
        "Suppose that we are given $n$ bits and we are asked how many of the bits are set to 1. At this point, we know how to add two bits and now we will implement the procedure for counting by adding multiple bits consecutively on top of each other. \n",
        "\n",
        "We will store the output in qubits $\\ket{q_2}$ and $\\ket{q_3}$ where $\\ket{q_2}$ represents the sum and $\\ket{q_3}$ represents the carry. We will perform in place addition, meaning that we will first add the bit represented by $\\ket{q_0}$ to the output and then do the same for the bit stored in $\\ket{q_1}$.\n",
        "\n",
        "In summary, we will perform the following operations: (`sum` is representing the sum stored in qubits $\\ket{q_2}$ and $\\ket{q_3}$.)\n",
        "\n",
        "First, we do `sum = sum + q0` "
      ]
    },
    {
      "cell_type": "code",
      "execution_count": null,
      "metadata": {
        "id": "JZApQhRggBHs"
      },
      "outputs": [],
      "source": [
        "qc = QuantumCircuit(4)\n",
        "qc.ccx(0,2,3)\n",
        "qc.cx(0,2)\n",
        "qc.draw(output=\"mpl\")\n"
      ]
    },
    {
      "cell_type": "markdown",
      "metadata": {
        "id": "SXRgx725gBHs"
      },
      "source": [
        "Remark that initially $ \\ket{q_2} $ is in state 0, and so we can also omit CCX.\n",
        "\n",
        "After the first addition, $\\ket{q_2}$ either stores 0 or 1. Now let's add the bit stored in $\\ket{q_1}$ to the output."
      ]
    },
    {
      "cell_type": "markdown",
      "metadata": {
        "id": "k1AfOAl2gBHs"
      },
      "source": [
        "Second, we do `sum = sum + q1`"
      ]
    },
    {
      "cell_type": "code",
      "execution_count": null,
      "metadata": {
        "id": "ZzXG_axTgBHt"
      },
      "outputs": [],
      "source": [
        "qc = QuantumCircuit(4)\n",
        "\n",
        "qc.ccx(0,2,3)\n",
        "qc.cx(0,2)\n",
        "\n",
        "qc.ccx(1,2,3)\n",
        "qc.cx(1,2)\n",
        "\n",
        "qc.draw(output=\"mpl\")"
      ]
    },
    {
      "cell_type": "markdown",
      "metadata": {
        "id": "ZJg8AOBfgBHu"
      },
      "source": [
        "Now let's check the correctness of the above circuit by trying different inputs."
      ]
    },
    {
      "cell_type": "code",
      "execution_count": null,
      "metadata": {
        "id": "8YWqUG0cgBHu"
      },
      "outputs": [],
      "source": [
        "for input in ['00','01','10','11']:\n",
        "    qc = QuantumCircuit(4,4)\n",
        "\n",
        "    # initialization\n",
        "    if input[0] == '1':\n",
        "        qc.x(0)\n",
        "    if input[1] == '1':\n",
        "        qc.x(1)\n",
        "\n",
        "    # add qubit 0 \n",
        "    # qubits 2. and 3. store the sum \n",
        "    qc.ccx(0,2,3) # since we know that q[2] is set to zero initially, we could omit this control \n",
        "    qc.cx(0,2)\n",
        "    \n",
        "    ## add qubit 1\n",
        "    qc.ccx(1,2,3)\n",
        "    qc.cx(1,2)\n",
        "\n",
        "    #Measure in reverse order\n",
        "    for i in range(4):\n",
        "        qc.measure(i,3-i)\n",
        "\n",
        "    job = execute(qc,Aer.get_backend('qasm_simulator'),shots=1000)\n",
        "    counts = job.result().get_counts(qc)   \n",
        "    # print the sum\n",
        "    print(\"Input:\", input)\n",
        "    print(\"The sum should be equal to\", int(input[0])+int(input[1]))\n",
        "    print(\"According to quantum circuit:\", 2*int(list(counts.keys())[0][3]) + int(list(counts.keys())[0][2])) \n",
        "    print(\"\")"
      ]
    },
    {
      "cell_type": "markdown",
      "metadata": {
        "id": "dKvnadYSgBHv"
      },
      "source": [
        "In the next task, you will implement the same procedure this time adding the first three bits. The sum will be stored in qubits $\\ket{q_3}$ and $\\ket{q_4}$. After adding the first two bits, it can be the case that $\\ket{q_3}$ stores 0 and $\\ket{q_4}$ stores 1, corresponding to the sum $2=10_2$.  From the table, we know that the same implementation idea still works independent of whether $\\ket{q_4}$ stores 1 or not."
      ]
    },
    {
      "cell_type": "markdown",
      "metadata": {
        "id": "RDm-LqEwgBHw"
      },
      "source": [
        "### Task 1\n",
        "Add the first three bits stored in qubits 0-2 and store the sum on qubits 3-4."
      ]
    },
    {
      "cell_type": "code",
      "execution_count": null,
      "metadata": {
        "id": "aGu1K2-5gBHw"
      },
      "outputs": [],
      "source": [
        "for input in  ['000','001','010','011','100','101','110','111']:\n",
        "    qc = QuantumCircuit(5,5)\n",
        "\n",
        "    if input[0] == '1':\n",
        "        qc.x(0)\n",
        "    if input[1] == '1':\n",
        "        qc.x(1)\n",
        "    if input[2] == '1':\n",
        "        qc.x(2)\n",
        "\n",
        "    # your solution here\n",
        "    #\n",
        "    #\n",
        "    \n",
        "    #Measure in reverse order\n",
        "    for i in range(5):\n",
        "        qc.measure(i,4-i)\n",
        "\n",
        "    job = execute(qc,Aer.get_backend('qasm_simulator'),shots=1000)\n",
        "    counts = job.result().get_counts(qc)   \n",
        "    # print the sum\n",
        "    print(\"Input:\", input)\n",
        "    print(\"The sum should be equal to\", int(input[0])+int(input[1])+int(input[2]))\n",
        "    print(\"According to quantum circuit:\", 2*int(list(counts.keys())[0][4]) + int(list(counts.keys())[0][3])) \n",
        "    print(\"\")"
      ]
    },
    {
      "cell_type": "markdown",
      "metadata": {
        "id": "OOzvXw1hgBHx"
      },
      "source": [
        "[click for our solution](Adder_and_counting_solutions.ipynb#task1)"
      ]
    },
    {
      "cell_type": "markdown",
      "metadata": {
        "id": "outJuuzwgBHy"
      },
      "source": [
        "### Generalization  "
      ]
    },
    {
      "cell_type": "markdown",
      "metadata": {
        "id": "1EEkkzM2gBHy"
      },
      "source": [
        "Check the following circuit which implements summation of the first four bits. When we add the fourth bit, we introduce the multi-controlled $NOT$ as it is possible that the sum is equal to 3 at this point and an overflow takes place. We store the output in qubits $\\ket{q_4}, \\ket{q_5}$ and $\\ket{q_6}$."
      ]
    },
    {
      "cell_type": "markdown",
      "metadata": {
        "id": "tMptqYXegBHy"
      },
      "source": [
        "The line below generates all possible inputs of length 4 and we will use it in our code."
      ]
    },
    {
      "cell_type": "code",
      "execution_count": null,
      "metadata": {
        "id": "q8u3G6C1gBHz"
      },
      "outputs": [],
      "source": [
        "input_list = [bin(i)[2:].zfill(4) for i in range(0,2**4)]\n",
        "print(input_list)"
      ]
    },
    {
      "cell_type": "code",
      "execution_count": null,
      "metadata": {
        "id": "B3H6mPJsgBHz"
      },
      "outputs": [],
      "source": [
        "for input in input_list:\n",
        "    qc = QuantumCircuit(7,7)\n",
        "\n",
        "    #We can do the initialization inside a for loop\n",
        "    for i in range(4):\n",
        "        if input[i]=='1':\n",
        "            qc.x(i)\n",
        "\n",
        "    # add qubit 0\n",
        "    qc.cx(0,4)\n",
        "\n",
        "    # add qubit 1\n",
        "    qc.ccx(1,4,5)\n",
        "    qc.cx(1,4)\n",
        "\n",
        "    # add qubit 2\n",
        "    qc.ccx(2,4,5)\n",
        "    qc.cx(2,4)\n",
        "\n",
        "    # add qubit 3\n",
        "    qc.mct([3,4,5],6)\n",
        "    qc.ccx(3,4,5)\n",
        "    qc.cx(3,4)\n",
        "    \n",
        "    #Measure in reverse order\n",
        "    for i in range(7):\n",
        "        qc.measure(i,6-i)\n",
        "\n",
        "    job = execute(qc,Aer.get_backend('qasm_simulator'),shots=1000)\n",
        "    counts = job.result().get_counts(qc)   \n",
        "    # print the sum\n",
        "    print(\"Input:\", input)\n",
        "    print(\"The sum should be equal to\",  int(input[0])+int(input[1])+int(input[2])+int(input[3]))\n",
        "    print(\"According to quantum circuit:\",4*int(list(counts.keys())[0][6])+ 2*int(list(counts.keys())[0][5]) + int(list(counts.keys())[0][4])) \n",
        "    print(\"\")\n",
        "    "
      ]
    },
    {
      "cell_type": "markdown",
      "metadata": {
        "id": "iNP2w2tQgBHz"
      },
      "source": [
        "The same pattern will continue if we include the bits $ a_5, a_6, a_7 $. As the sum will be at most 7, we use still 3 bits for storing the output (summation).\n",
        "\n",
        "After including $ a_8 $, we can have an overflow and so we use a multi-controlled not gate to check it. Besides, we use 4 bits for storing the output, which will be enough when adding $ a_9,\\dots,a_{15} $.\n",
        "\n",
        "This pattern repeats itself whenever including the new bits. A new (qu)bit is used by the output when the $ 2^i $-th bit is included in the summation, and a new multi-controlled not gate should be used to check the overflow."
      ]
    },
    {
      "cell_type": "markdown",
      "metadata": {
        "id": "PmGk54avgBH0"
      },
      "source": [
        "---"
      ]
    },
    {
      "cell_type": "markdown",
      "metadata": {
        "id": "3hFrKHfRgBH0"
      },
      "source": [
        "Let's review the whole process from the beginning.\n",
        "\n",
        "There is a single input (qu)bit $a_0$ and a single output qubit, say $b_4$, initially set to $0$.  After the operation $b_4 = b_4+a_0 $, $ b_4 $ can be at most 1, which can be accomplished by using a single $CX$ operator.\n"
      ]
    },
    {
      "cell_type": "code",
      "execution_count": null,
      "metadata": {
        "id": "o_SVkU38gBH0"
      },
      "outputs": [],
      "source": [
        "qc = QuantumCircuit(7,7)\n",
        "\n",
        "# add qubit 0\n",
        "qc.cx(0,4)\n",
        "qc.draw(output=\"mpl\")"
      ]
    },
    {
      "cell_type": "markdown",
      "metadata": {
        "id": "0NTUEJ0ygBH1"
      },
      "source": [
        "Now we add one more bit ($a_1$) to the summation. At this point, $b_4$ can be 0 or 1. If $a_1=1$ and $b_4=1$, then there will be an overflow to the next qubit since the sum will be $2=10_2$. We can check this using a $CCX$ gate where $a_1$ and $b_4$ are the control and $b_4$ is the target (qu)bit. (The same as the half adder above.)"
      ]
    },
    {
      "cell_type": "markdown",
      "metadata": {
        "id": "UTsXIz73gBH1"
      },
      "source": [
        "Similarly, we can add $a_2$. If $a_2=1$ and the current sum is 1, then the new sum will be equal to 2 and the overflow will take place. If the current sum is equal to 2, then there is already an overflow and the new sum will become $3=11_2$."
      ]
    },
    {
      "cell_type": "code",
      "execution_count": null,
      "metadata": {
        "id": "pgkGhQ-pgBH1"
      },
      "outputs": [],
      "source": [
        "qc = QuantumCircuit(7,7)\n",
        "\n",
        "# add qubit 0\n",
        "qc.cx(0,4)\n",
        "\n",
        "# add qubit 1\n",
        "qc.ccx(1,4,5)\n",
        "qc.cx(1,4)\n",
        "\n",
        "# add qubit 2\n",
        "qc.ccx(2,4,5)\n",
        "qc.cx(2,4)\n",
        "    \n",
        "qc.draw(output=\"mpl\")"
      ]
    },
    {
      "cell_type": "markdown",
      "metadata": {
        "id": "SdDCMDI4gBH1"
      },
      "source": [
        "Now we will add one more bit $a_3$. If $a_3= 1$ and both $b_4$ and $b_5$ are equal to 1, that is if the current sum is 3, then the sum will become 4 and we need an additional bit $b_6$. Hence, we need to check $a_3$, $b_4$, $b_5$ for equality to 1 and apply a $NOT$ gate to $\\ket{b_6}$ if this is the case. "
      ]
    },
    {
      "cell_type": "code",
      "execution_count": null,
      "metadata": {
        "id": "N2WZiGXvgBH3"
      },
      "outputs": [],
      "source": [
        "qc = QuantumCircuit(7,7)\n",
        "\n",
        "# add qubit 0\n",
        "qc.cx(0,4)\n",
        "\n",
        "# add qubit 1\n",
        "qc.ccx(1,4,5)\n",
        "qc.cx(1,4)\n",
        "\n",
        "# add qubit 2\n",
        "qc.ccx(2,4,5)\n",
        "qc.cx(2,4)\n",
        "\n",
        "# add qubit 3\n",
        "qc.mct([3,4,5],6)\n",
        "qc.ccx(3,4,5)\n",
        "qc.cx(3,4)\n",
        "    \n",
        "qc.draw(output=\"mpl\")"
      ]
    },
    {
      "cell_type": "markdown",
      "metadata": {
        "id": "he-8bHPLgBH6"
      },
      "source": [
        "### Task 2\n",
        "\n",
        "By using the given idea, add the values of seven bits, namely $ q_0,\\ldots,q_6 $, and write the results on the qubits $ q_7,q_8, q_9 $.\n",
        "\n",
        "*Note:*  You may use for-loops instead of adding each qubit one by one."
      ]
    },
    {
      "cell_type": "code",
      "execution_count": null,
      "metadata": {
        "id": "aNEXmjfygBH7"
      },
      "outputs": [],
      "source": [
        "# Generate the inputs\n",
        "input_list = [bin(i)[2:].zfill(7) for i in range(0,2**7)]"
      ]
    },
    {
      "cell_type": "code",
      "execution_count": null,
      "metadata": {
        "id": "6fXDCToUgBH9"
      },
      "outputs": [],
      "source": [
        "for input in input_list:\n",
        "    qc = QuantumCircuit(10,10)\n",
        "\n",
        "    #We can do the initialization inside a for loop\n",
        "    for i in range(7):\n",
        "        if input[i]=='1':\n",
        "            qc.x(i)\n",
        "\n",
        "    #\n",
        "    #Your code here\n",
        "    #\n",
        "    \n",
        "    #Measure in reverse order\n",
        "    for i in range(10):\n",
        "        qc.measure(i,9-i)\n",
        "\n",
        "    job = execute(qc,Aer.get_backend('qasm_simulator'),shots=1000)\n",
        "    counts = job.result().get_counts(qc)   \n",
        "    # print the sum\n",
        "    print(\"Input:\", input)\n",
        "    print(\"The sum should be equal to\",  sum(int(i) for i in input))\n",
        "    print(\"According to quantum circuit:\",4*int(list(counts.keys())[0][9])+ 2*int(list(counts.keys())[0][8]) + int(list(counts.keys())[0][7])) \n",
        "    print(\"\")\n",
        "    "
      ]
    },
    {
      "cell_type": "markdown",
      "metadata": {
        "id": "QbRaCYrDgBH-"
      },
      "source": [
        "[click for our solution](Adder_and_counting_solutions.ipynb#task2)"
      ]
    },
    {
      "cell_type": "markdown",
      "metadata": {
        "id": "tkEYPUSKgBH_"
      },
      "source": [
        "## IMPORTANT: How to calculate Quantum Costs using an Unroller\n",
        "There are several ways to evaluate a program (quantum circuit). Such as:\n",
        "\n",
        "1. Number of quantum bits\n",
        "2. Depth\n",
        "3. Program Execution Speed (Runtime)\n",
        "4. Number of instructions\n",
        "\n",
        "These are all important measurements that impact the results and throughput of quantum computation.\n",
        "\n",
        "Any given quantum circuit can be decomposed into single-qubit gates (an instruction given to a single qubit) and two-qubit gates. With the current Noisy Intermediate-Scale Quantum (NISQ) devices, noises are introduced more heavily when implementing CX gates.\n",
        "\n",
        "Let's check the following example."
      ]
    },
    {
      "cell_type": "code",
      "execution_count": null,
      "metadata": {
        "id": "UfBGG-IpgBH_",
        "outputId": "d9be5e5d-11e5-4cfb-bd29-874f61c7f520"
      },
      "outputs": [
        {
          "data": {
            "image/png": "[encoded data removed]",
            "text/plain": [
              "<Figure size 400.578x325.08 with 1 Axes>"
            ]
          },
          "execution_count": 15,
          "metadata": {},
          "output_type": "execute_result"
        }
      ],
      "source": [
        "q = QuantumRegister(4, 'q0')\n",
        "c = ClassicalRegister(1, 'c0')\n",
        "qc = QuantumCircuit(q, c)\n",
        "qc.ccx(q[0], q[1], q[2])\n",
        "qc.cx(q[3], q[1])\n",
        "qc.h(q[3])\n",
        "qc.ccx(q[3], q[2], q[1])\n",
        "qc.measure(q[3],c[0])\n",
        "qc.draw(output='mpl')"
      ]
    },
    {
      "cell_type": "markdown",
      "metadata": {
        "id": "XTPv3scGgBIA"
      },
      "source": [
        "You can use the following function to count the number of operations in the circuit."
      ]
    },
    {
      "cell_type": "code",
      "execution_count": null,
      "metadata": {
        "id": "N0Kx6fmcgBIA",
        "outputId": "aae9015c-b5e1-4110-d87d-17c7852fb1cf"
      },
      "outputs": [
        {
          "data": {
            "text/plain": [
              "OrderedDict([('ccx', 2), ('cx', 1), ('h', 1), ('measure', 1)])"
            ]
          },
          "execution_count": 16,
          "metadata": {},
          "output_type": "execute_result"
        }
      ],
      "source": [
        "qc.count_ops()"
      ]
    },
    {
      "cell_type": "markdown",
      "metadata": {
        "id": "o0zBRkpHgBIA"
      },
      "source": [
        "As you can see, this quantum circuit contains a Hadamard gate, a CX gate and CCX gates. \n",
        "\n",
        "By using qiskit transpiler, we can decompose the circuit into an equivalent one using only a 1-qubit gate called `u`-gate and CNOT gate."
      ]
    },
    {
      "cell_type": "code",
      "execution_count": null,
      "metadata": {
        "id": "MxvbtlGggBIB",
        "outputId": "2ee33467-d033-4dd1-a39e-b88db6ac4e05"
      },
      "outputs": [
        {
          "name": "stdout",
          "output_type": "stream",
          "text": [
            "OrderedDict([('u', 17), ('cx', 13), ('measure', 1)])\n"
          ]
        }
      ],
      "source": [
        "from qiskit import transpile\n",
        "\n",
        "tp = transpile(qc, basis_gates = ['cx', 'u'])\n",
        "print(tp.count_ops())\n"
      ]
    },
    {
      "cell_type": "code",
      "execution_count": null,
      "metadata": {
        "id": "k_p5VQeRgBIC",
        "outputId": "800edf66-5154-49b5-ac40-47eb694e106f"
      },
      "outputs": [
        {
          "data": {
            "image/png": "[encoded data removed]",
            "text/plain": [
              "<Figure size 1604.58x686.28 with 1 Axes>"
            ]
          },
          "execution_count": 19,
          "metadata": {},
          "output_type": "execute_result"
        }
      ],
      "source": [
        "tp.draw(output='mpl')"
      ]
    }
  ],
  "metadata": {
    "kernelspec": {
      "display_name": "Python 3",
      "language": "python",
      "name": "python3"
    },
    "language_info": {
      "codemirror_mode": {
        "name": "ipython",
        "version": 3
      },
      "file_extension": ".py",
      "mimetype": "text/x-python",
      "name": "python",
      "nbconvert_exporter": "python",
      "pygments_lexer": "ipython3",
      "version": "3.7.3"
    },
    "colab": {
      "provenance": [],
      "include_colab_link": true
    }
  },
  "nbformat": 4,
  "nbformat_minor": 0
}